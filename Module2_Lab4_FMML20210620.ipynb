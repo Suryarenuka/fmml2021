{
  "nbformat": 4,
  "nbformat_minor": 0,
  "metadata": {
    "colab": {
      "name": "Module2_Lab4_FMML20210620.ipynb",
      "provenance": [],
      "authorship_tag": "ABX9TyO/8UiAmSZUgbnaJUBbQksl",
      "include_colab_link": true
    },
    "kernelspec": {
      "name": "python3",
      "display_name": "Python 3"
    },
    "language_info": {
      "name": "python"
    }
  },
  "cells": [
    {
      "cell_type": "markdown",
      "metadata": {
        "id": "view-in-github",
        "colab_type": "text"
      },
      "source": [
        "<a href=\"https://colab.research.google.com/github/Suryarenuka/fmml2021/blob/main/Module2_Lab4_FMML20210620.ipynb\" target=\"_parent\"><img src=\"https://colab.research.google.com/assets/colab-badge.svg\" alt=\"Open In Colab\"/></a>"
      ]
    },
    {
      "cell_type": "markdown",
      "metadata": {
        "id": "VyRPipyiFNBg"
      },
      "source": [
        "MODULE 2: Appreciating, Interpreting and Visualizing Data\n",
        "\n",
        "Coordinator: Kushagra Agarwal\n",
        "\n",
        "Lab 4"
      ]
    },
    {
      "cell_type": "markdown",
      "metadata": {
        "id": "Spr7ez91FY22"
      },
      "source": [
        "QUESTION:\n",
        "advantages/disadvantages of PCA and T-SNE?\n",
        "\n",
        "Pointers:\n",
        "\n",
        "1.Which of the two algorithms is linear and which one is non-linear?\n",
        "\n",
        "2.How does the non-linearity in one of these two algorithms help in capturing certain data sets?\n",
        "\n",
        "3.PCA is known to keep points which were further apart in the higher dimension, far apart in the lower dimension as well. Does t-SNE do the same? Or does it try to preserve local neighbourhood?\n",
        "\n",
        "4.Can you comment on which one of the two is computationally more expensive?"
      ]
    },
    {
      "cell_type": "markdown",
      "metadata": {
        "id": "Cpbr3G93FxyT"
      },
      "source": [
        "1.t-SNE and PCA both are dimensionality reduction techniques used for data visulaisation and deals with unsupervised data.\n",
        "\n",
        "2.Unlike PCA it tries to preserve the Local structure of data by minimizing the Kullback–Leibler divergence (KL divergence) between the two distributions with respect to the locations of the points in the map.\n",
        "\n",
        "3.t-SNE tries to preserve local structure of data i.e as clusters but in PCA local structure is not maintained and it only preserves global structures that's why the data is scattered in lower dimension.\n",
        "\n",
        "4.PCA doesn't have any hyperparameters to manipulate the lower dimension data but t-SNE provides hyperparameters.\n",
        "\n",
        "5.PCA is affected by outliers as t- SNE handles outliers.\n",
        "\n",
        "--> this is why we can say t-SNE is a bit better than PCA for visualizing purpose."
      ]
    },
    {
      "cell_type": "markdown",
      "metadata": {
        "id": "4TUiRK7nGJNC"
      },
      "source": [
        "1.Which of the two algorithms is linear and which one is non-linear?"
      ]
    },
    {
      "cell_type": "markdown",
      "metadata": {
        "id": "15rbspb6GPno"
      },
      "source": [
        "PCA is linear dimensionality reduction technique and t-SNE and ISOMAP are non-linear dimensionality reduction technique."
      ]
    },
    {
      "cell_type": "markdown",
      "metadata": {
        "id": "ov6raPBJGXGt"
      },
      "source": [
        "2.How does the non-linearity in one of these two algorithms help in capturing certain data sets?"
      ]
    },
    {
      "cell_type": "markdown",
      "metadata": {
        "id": "q1WaXfMGGeh5"
      },
      "source": [
        "In these algorithms t-SNE deals with non linear data sets as it is non linear dimensionality reduction technique.What that means is this algorithm allows us to separate data that cannot be separated by any straight line.some of examples like trefoil knot modeled data sets.\n",
        "\n",
        "-->non linear data sets won’t return any reasonable results when parsed through PCA (ignoring the fact that you’re parsing 2D into 2D). That’s why it’s important to know at least one algorithm that deals with linearly nonseparable data here the best one in the business is t-SNE."
      ]
    },
    {
      "cell_type": "markdown",
      "metadata": {
        "id": "Cve2TvLhGmoz"
      },
      "source": [
        "3.PCA is known to keep points which were further apart in the higher dimension, far apart in the lower dimension as well. Does t-SNE do the same? Or does it try to preserve local neighbourhood?"
      ]
    },
    {
      "cell_type": "markdown",
      "metadata": {
        "id": "wGr4joLtGsQ5"
      },
      "source": [
        "Yes , t-SNE also do the same as PCA and it even move further points further away in lower dimension.\n",
        "\n",
        "--> t-SNE tries to preserve local neighbourhood but in case of far away points in the neighbourhood it move them further apart for better optimisation of data."
      ]
    },
    {
      "cell_type": "markdown",
      "metadata": {
        "id": "1Zvz7xfWGv5p"
      },
      "source": [
        "4.Can you comment on which one of the two is computationally more expensive?"
      ]
    },
    {
      "cell_type": "markdown",
      "metadata": {
        "id": "qqksLFbJG2xH"
      },
      "source": [
        "t-SNE is computationally expensive and can take several hours on million-sample datasets where PCA will finish in seconds or minutes."
      ]
    }
  ]
}