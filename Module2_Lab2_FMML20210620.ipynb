{
  "nbformat": 4,
  "nbformat_minor": 0,
  "metadata": {
    "colab": {
      "name": "Module2_Lab2_FMML20210620.ipynb",
      "provenance": [],
      "authorship_tag": "ABX9TyMBKHTuEY2zLSADtWvF4qtQ",
      "include_colab_link": true
    },
    "kernelspec": {
      "name": "python3",
      "display_name": "Python 3"
    },
    "language_info": {
      "name": "python"
    }
  },
  "cells": [
    {
      "cell_type": "markdown",
      "metadata": {
        "id": "view-in-github",
        "colab_type": "text"
      },
      "source": [
        "<a href=\"https://colab.research.google.com/github/Suryarenuka/fmml2021/blob/main/Module2_Lab2_FMML20210620.ipynb\" target=\"_parent\"><img src=\"https://colab.research.google.com/assets/colab-badge.svg\" alt=\"Open In Colab\"/></a>"
      ]
    },
    {
      "cell_type": "markdown",
      "metadata": {
        "id": "DUw-7CF_-4X3"
      },
      "source": [
        "Question:\n",
        "\n",
        "1.Referring to the plot above, can you reason why PCA can be a good candidate before training models for Machine learning?"
      ]
    },
    {
      "cell_type": "markdown",
      "metadata": {
        "id": "jysqd4_1--1l"
      },
      "source": [
        "Answer:\n",
        "\n",
        "1.We got Fewer dimensions means less computing. Less data means that algorithms train faster.\n",
        "\n",
        "2.We can say that in the Dimensionality reduction we did not loose too much information for the above problem, so we can differentiate well between benign and malignant\n",
        "\n",
        "3.A dimensionality reduction algorithm is said to work well if it eliminates a significant number of dimensions from the dataset without losing too much information. Moreover, the use of dimensionality reduction in preprocessing before training the model allows measuring the performance of the second algorithm.\n",
        "\n",
        "4.We can therefore infer if an algorithm performed well if the dimensionality reduction does not lose too much information after applying the algorithm.\n",
        "\n",
        "5.While doing dimensionality reduction, we lost some of the information, which can possibly affect the performance of subsequent training algorithms.\n",
        "\n"
      ]
    }
  ]
}