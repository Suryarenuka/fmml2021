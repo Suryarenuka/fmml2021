{
  "nbformat": 4,
  "nbformat_minor": 0,
  "metadata": {
    "colab": {
      "name": "Lab1_Features_FMML20210620.ipynb",
      "provenance": [],
      "collapsed_sections": [],
      "authorship_tag": "ABX9TyMQbGAwLyyRJhs3/4xLAR8P",
      "include_colab_link": true
    },
    "kernelspec": {
      "name": "python3",
      "display_name": "Python 3"
    },
    "language_info": {
      "name": "python"
    }
  },
  "cells": [
    {
      "cell_type": "markdown",
      "metadata": {
        "id": "view-in-github",
        "colab_type": "text"
      },
      "source": [
        "<a href=\"https://colab.research.google.com/github/Suryarenuka/fmml2021/blob/main/Lab1_Features_FMML20210620.ipynb\" target=\"_parent\"><img src=\"https://colab.research.google.com/assets/colab-badge.svg\" alt=\"Open In Colab\"/></a>"
      ]
    },
    {
      "cell_type": "markdown",
      "metadata": {
        "id": "3TWn5HpIQxdg"
      },
      "source": [
        "    EXAMPLE 1.\n",
        "1.Try with different languages.\n",
        "\n",
        "2.The topics we used are quite similar, wikipedia articles of 'elephant' and 'giraffe'. What happens if we use very different topics? What if we use text from another source than Wikipedia?.\n",
        "\n",
        "3.How can we use and visualize trigrams and higher n-grams?"
      ]
    },
    {
      "cell_type": "markdown",
      "metadata": {
        "id": "sRU60aCpQ_Id"
      },
      "source": [
        "Double-click (or enter) to edit"
      ]
    },
    {
      "cell_type": "code",
      "metadata": {
        "id": "6edAO8GzQjkW"
      },
      "source": [
        "! pip install wikipedia\n",
        "\n",
        "import wikipedia\n",
        "import nltk\n",
        "from nltk.util import ngrams\n",
        "from collections import Counter\n",
        "import matplotlib.pyplot as plt\n",
        "import numpy as np\n",
        "import re\n",
        "import unicodedata\n",
        "import plotly.express as px\n",
        "import pandas as pd"
      ],
      "execution_count": null,
      "outputs": []
    },
    {
      "cell_type": "markdown",
      "metadata": {
        "id": "L65n2oQ_Rcqn"
      },
      "source": [
        "Collecting wikipedia\n",
        "  Downloading wikipedia-1.4.0.tar.gz (27 kB)\n",
        "Requirement already satisfied: beautifulsoup4 in /usr/local/lib/python3.7/dist-packages (from wikipedia) (4.6.3)\n",
        "Requirement already satisfied: requests<3.0.0,>=2.0.0 in /usr/local/lib/python3.7/dist-packages (from wikipedia) (2.23.0)\n",
        "Requirement already satisfied: certifi>=2017.4.17 in /usr/local/lib/python3.7/dist-packages (from requests<3.0.0,>=2.0.0->wikipedia) (2021.5.30)\n",
        "Requirement already satisfied: idna<3,>=2.5 in /usr/local/lib/python3.7/dist-packages (from requests<3.0.0,>=2.0.0->wikipedia) (2.10)\n",
        "Requirement already satisfied: chardet<4,>=3.0.2 in /usr/local/lib/python3.7/dist-packages (from requests<3.0.0,>=2.0.0->wikipedia) (3.0.4)\n",
        "Requirement already satisfied: urllib3!=1.25.0,!=1.25.1,<1.26,>=1.21.1 in /usr/local/lib/python3.7/dist-packages (from requests<3.0.0,>=2.0.0->wikipedia) (1.24.3)\n",
        "Building wheels for collected packages: wikipedia\n",
        "  Building wheel for wikipedia (setup.py) ... done\n",
        "  Created wheel for wikipedia: filename=wikipedia-1.4.0-py3-none-any.whl size=11696 sha256=ccf02b7b0659fe615464088cedfb50a4829d65a3c1f72e263d3f044dd9f8a775\n",
        "  Stored in directory: /root/.cache/pip/wheels/15/93/6d/5b2c68b8a64c7a7a04947b4ed6d89fb557dcc6bc27d1d7f3ba\n",
        "Successfully built wikipedia\n",
        "Installing collected packages: wikipedia"
      ]
    },
    {
      "cell_type": "markdown",
      "metadata": {
        "id": "y4ERgX7HRy53"
      },
      "source": [
        "1.Try with different languages.\n",
        "\n",
        "2.The topics we used are quite similar, wikipedia articles of 'elephant' and 'giraffe'. What happens if we use very different topics? What if we use text from another source than Wikipedia?."
      ]
    },
    {
      "cell_type": "code",
      "metadata": {
        "id": "rn2sHVmLR6nI"
      },
      "source": [
        "topic1 = 'Leopard'\n",
        "topic2 = 'Tom Cruise'\n",
        "wikipedia.set_lang('lt') \n",
        "lt1 = wikipedia.page(topic1).content\n",
        "lt2 = wikipedia.page(topic2).content\n",
        "wikipedia.set_lang('it')\n",
        "it1 = wikipedia.page(topic1).content\n",
        "it2 = wikipedia.page(topic2).content"
      ],
      "execution_count": null,
      "outputs": []
    },
    {
      "cell_type": "code",
      "metadata": {
        "id": "t5JVwtTFR9fn"
      },
      "source": [
        "def cleanup(text):\n",
        "  text = text.lower()  # make it lowercase\n",
        "  text = re.sub('[^a-z]+', '', text) # only keep characters\n",
        "  return text"
      ],
      "execution_count": null,
      "outputs": []
    },
    {
      "cell_type": "markdown",
      "metadata": {
        "id": "uJlAeVFCSAlg"
      },
      "source": [
        "when I am using text from other sources other than wikipedia, I am not able to cleanup the data(I read the data using pandas read function....)"
      ]
    },
    {
      "cell_type": "code",
      "metadata": {
        "id": "em2GUp6bSDvQ"
      },
      "source": [
        "lt1=cleanup(lt1)\n",
        "lt2=cleanup(lt2)\n",
        "it1=cleanup(it1)\n",
        "it2=cleanup(it2)"
      ],
      "execution_count": null,
      "outputs": []
    },
    {
      "cell_type": "code",
      "metadata": {
        "id": "z96GjSJCSJu7"
      },
      "source": [
        "#calculate the frequency of the character n-grams\n",
        "# convert a tuple of characters to a string\n",
        "def tuple2string(tup):\n",
        "  st = ''\n",
        "  for ii in tup:\n",
        "    st = st + ii\n",
        "  return st\n",
        "\n",
        "# convert a tuple of tuples to a list of strings\n",
        "def key2string(keys):\n",
        "  return [tuple2string(i) for i in keys]\n",
        "\n",
        "# plot the histogram\n",
        "def plothistogram(ngram):\n",
        "  keys = key2string(ngram.keys()) \n",
        "  values = list(ngram.values())\n",
        "  \n",
        "  # sort the keys in alphabetic order\n",
        "  combined = zip(keys, values)\n",
        "  zipped_sorted = sorted(combined, key=lambda x: x[0])\n",
        "  keys, values = map(list, zip(*zipped_sorted))\n",
        "  plt.bar(keys, values)"
      ],
      "execution_count": null,
      "outputs": []
    },
    {
      "cell_type": "code",
      "metadata": {
        "id": "4WJmV3k1SNF0"
      },
      "source": [
        "#compare the histograms of Latin  pages and Italian pages.\n",
        "unigram_lt1 = Counter(ngrams(lt1,1))\n",
        "plothistogram(unigram_lt1)\n",
        "plt.title('Latin 1')\n",
        "plt.show()\n",
        "unigram_lt2 = Counter(ngrams(lt2,1))\n",
        "plothistogram(unigram_lt2)\n",
        "plt.title('Latin 2')\n",
        "plt.show()\n",
        "\n",
        "unigram_it1 = Counter(ngrams(it1,1))\n",
        "plothistogram(unigram_it1)\n",
        "plt.title('Italian 1')\n",
        "plt.show()\n",
        "unigram_it2 = Counter(ngrams(it2,1))\n",
        "plothistogram(unigram_it2)\n",
        "plt.title('Italian 2')\n",
        "plt.show()"
      ],
      "execution_count": null,
      "outputs": []
    },
    {
      "cell_type": "code",
      "metadata": {
        "id": "jlRMjQgYSP00"
      },
      "source": [
        "bigram_lt1 = Counter(ngrams(lt1,2))\n",
        "plothistogram(bigram_lt1)\n",
        "plt.title('Latin 1')\n",
        "plt.show()\n",
        "bigram_lt2 = Counter(ngrams(lt2,2))\n",
        "plothistogram(bigram_lt2)\n",
        "plt.title('Latin 2')\n",
        "plt.show()\n",
        "\n",
        "bigram_it1 = Counter(ngrams(it1,2))\n",
        "plothistogram(bigram_it1)\n",
        "plt.title('Italian 1')\n",
        "plt.show()\n",
        "bigram_it2 = Counter(ngrams(it2,2))\n",
        "plothistogram(bigram_it2)\n",
        "plt.title('Italian 2')\n",
        "plt.show()"
      ],
      "execution_count": null,
      "outputs": []
    },
    {
      "cell_type": "code",
      "metadata": {
        "id": "hPg2VdFMSSfl"
      },
      "source": [
        "trigram_lt1 = Counter(ngrams(lt1,3))\n",
        "plothistogram(trigram_lt1)\n",
        "plt.title('Latin 1')\n",
        "plt.show()\n",
        "trigram_lt2 = Counter(ngrams(lt2,3))\n",
        "plothistogram(trigram_lt2)\n",
        "plt.title('Latin 2')\n",
        "plt.show()\n",
        "\n",
        "trigram_it1 = Counter(ngrams(it1,3))\n",
        "plothistogram(trigram_it1)\n",
        "plt.title('Italian 1')\n",
        "plt.show()\n",
        "trigram_it2 = Counter(ngrams(it2,3))\n",
        "plothistogram(trigram_it2)\n",
        "plt.title('Italian 2')\n",
        "plt.show()"
      ],
      "execution_count": null,
      "outputs": []
    },
    {
      "cell_type": "code",
      "metadata": {
        "id": "Ownt6YzoSVdC"
      },
      "source": [
        "def plotbihistogram(ngram):\n",
        "  freq = np.zeros((26,26))\n",
        "  for ii in range(26):\n",
        "    for jj in range(26):\n",
        "      freq[ii,jj] = ngram[(chr(ord('a')+ii), chr(ord('a')+jj))]\n",
        "  plt.imshow(freq, cmap = 'jet')\n",
        "  return freq"
      ],
      "execution_count": null,
      "outputs": []
    },
    {
      "cell_type": "code",
      "metadata": {
        "id": "8cW1LmCLSX1M"
      },
      "source": [
        "bilt1 = plotbihistogram(bigram_lt1)\n",
        "plt.show()\n",
        "bilt2 = plotbihistogram(bigram_lt2)"
      ],
      "execution_count": null,
      "outputs": []
    },
    {
      "cell_type": "code",
      "metadata": {
        "id": "79P0U-hHSafV"
      },
      "source": [
        "biit1 = plotbihistogram(bigram_it1)\n",
        "plt.show()\n",
        "biit2 = plotbihistogram(bigram_it2)"
      ],
      "execution_count": null,
      "outputs": []
    },
    {
      "cell_type": "code",
      "metadata": {
        "id": "OnOVGzp8Sc7P"
      },
      "source": [
        "from IPython.core.debugger import set_trace\n",
        "\n",
        "def ind2tup(ind):\n",
        "  ind = int(ind)\n",
        "  i = int(ind/26)\n",
        "  j = int(ind%26)\n",
        "  return (chr(ord('a')+i), chr(ord('a')+j))\n",
        "\n",
        "def ShowTopN(bifreq, n=10):\n",
        "  f = bifreq.flatten()\n",
        "  arg = np.argsort(-f)\n",
        "  for ii in range(n):\n",
        "    print(f'{ind2tup(arg[ii])} : {f[arg[ii]]}')"
      ],
      "execution_count": null,
      "outputs": []
    },
    {
      "cell_type": "code",
      "metadata": {
        "id": "qIF-g2G9SfST"
      },
      "source": [
        "print('\\nLatin 1:')\n",
        "ShowTopN(bilt1)\n",
        "print('\\nLatin 2:')\n",
        "ShowTopN(bilt2)\n",
        "print('\\nItalian 1:')\n",
        "ShowTopN(biit1)\n",
        "print('\\nItalian 2:')\n",
        "ShowTopN(biit2)"
      ],
      "execution_count": null,
      "outputs": []
    },
    {
      "cell_type": "markdown",
      "metadata": {
        "id": "Z_9QlfG9SjJb"
      },
      "source": [
        "When the text files are of completely differnt topic we can differentiate them based on topic in italian.\n",
        "\n",
        "If the texts are of different topic we can also distinguse between topic in same language....\n",
        "\n",
        "trigrams and n-grams could be visulaized using neural networks."
      ]
    },
    {
      "cell_type": "markdown",
      "metadata": {
        "id": "nqQHb0z4SosD"
      },
      "source": [
        "EXAMPLE 2\n",
        "1.Which is the best combination of features?\n",
        "\n",
        "2.How would you test or visualize four or more features?\n",
        "\n",
        "3.Can you come up with your own features?\n",
        "\n",
        "4.Will these features work for different classes other than 0 and 1?\n",
        "\n",
        "5.What will happen if we take more that two classes at a time?"
      ]
    },
    {
      "cell_type": "markdown",
      "metadata": {
        "id": "VAv59y19SwLW"
      },
      "source": [
        "1.Which is the best combination of features?"
      ]
    },
    {
      "cell_type": "markdown",
      "metadata": {
        "id": "O_AAvCGoTB3Y"
      },
      "source": [
        "I am drawing boundary pixels, hull pixels and sum pixels together... this combination works much better to distinguise between 0 and 1."
      ]
    },
    {
      "cell_type": "code",
      "metadata": {
        "colab": {
          "base_uri": "https://localhost:8080/"
        },
        "id": "xXSN8j9NTFDs",
        "outputId": "35fa20b3-5a66-4205-fccc-b6c10c4facc4"
      },
      "source": [
        "from keras.datasets import mnist\n",
        " \n",
        "#loading the dataset\n",
        "(train_X, train_y), (test_X, test_y) = mnist.load_data()"
      ],
      "execution_count": 2,
      "outputs": [
        {
          "output_type": "stream",
          "name": "stdout",
          "text": [
            "Downloading data from https://storage.googleapis.com/tensorflow/tf-keras-datasets/mnist.npz\n",
            "11493376/11490434 [==============================] - 0s 0us/step\n",
            "11501568/11490434 [==============================] - 0s 0us/step\n"
          ]
        }
      ]
    },
    {
      "cell_type": "code",
      "metadata": {
        "id": "vtVood-PTIPM"
      },
      "source": [
        "no0 = train_X[train_y==0,:,:]\n",
        "no1 = train_X[train_y==1,:,:]"
      ],
      "execution_count": 3,
      "outputs": []
    },
    {
      "cell_type": "code",
      "metadata": {
        "colab": {
          "base_uri": "https://localhost:8080/",
          "height": 231
        },
        "id": "ID7KyaOhTKwI",
        "outputId": "b49a05c4-b0e8-4707-f5f8-dcd32fb64a16"
      },
      "source": [
        "for ii in range(5):\n",
        "  plt.subplot(1, 5, ii+1)\n",
        "  plt.imshow(no0[ii,:,:])\n",
        "plt.show()\n",
        "for ii in range(5):\n",
        "  plt.subplot(1, 5, ii+1)\n",
        "  plt.imshow(no1[ii,:,:])\n",
        "plt.show()"
      ],
      "execution_count": 4,
      "outputs": [
        {
          "output_type": "error",
          "ename": "NameError",
          "evalue": "ignored",
          "traceback": [
            "\u001b[0;31m---------------------------------------------------------------------------\u001b[0m",
            "\u001b[0;31mNameError\u001b[0m                                 Traceback (most recent call last)",
            "\u001b[0;32m<ipython-input-4-691b59897e9b>\u001b[0m in \u001b[0;36m<module>\u001b[0;34m()\u001b[0m\n\u001b[1;32m      1\u001b[0m \u001b[0;32mfor\u001b[0m \u001b[0mii\u001b[0m \u001b[0;32min\u001b[0m \u001b[0mrange\u001b[0m\u001b[0;34m(\u001b[0m\u001b[0;36m5\u001b[0m\u001b[0;34m)\u001b[0m\u001b[0;34m:\u001b[0m\u001b[0;34m\u001b[0m\u001b[0;34m\u001b[0m\u001b[0m\n\u001b[0;32m----> 2\u001b[0;31m   \u001b[0mplt\u001b[0m\u001b[0;34m.\u001b[0m\u001b[0msubplot\u001b[0m\u001b[0;34m(\u001b[0m\u001b[0;36m1\u001b[0m\u001b[0;34m,\u001b[0m \u001b[0;36m5\u001b[0m\u001b[0;34m,\u001b[0m \u001b[0mii\u001b[0m\u001b[0;34m+\u001b[0m\u001b[0;36m1\u001b[0m\u001b[0;34m)\u001b[0m\u001b[0;34m\u001b[0m\u001b[0;34m\u001b[0m\u001b[0m\n\u001b[0m\u001b[1;32m      3\u001b[0m   \u001b[0mplt\u001b[0m\u001b[0;34m.\u001b[0m\u001b[0mimshow\u001b[0m\u001b[0;34m(\u001b[0m\u001b[0mno0\u001b[0m\u001b[0;34m[\u001b[0m\u001b[0mii\u001b[0m\u001b[0;34m,\u001b[0m\u001b[0;34m:\u001b[0m\u001b[0;34m,\u001b[0m\u001b[0;34m:\u001b[0m\u001b[0;34m]\u001b[0m\u001b[0;34m)\u001b[0m\u001b[0;34m\u001b[0m\u001b[0;34m\u001b[0m\u001b[0m\n\u001b[1;32m      4\u001b[0m \u001b[0mplt\u001b[0m\u001b[0;34m.\u001b[0m\u001b[0mshow\u001b[0m\u001b[0;34m(\u001b[0m\u001b[0;34m)\u001b[0m\u001b[0;34m\u001b[0m\u001b[0;34m\u001b[0m\u001b[0m\n\u001b[1;32m      5\u001b[0m \u001b[0;32mfor\u001b[0m \u001b[0mii\u001b[0m \u001b[0;32min\u001b[0m \u001b[0mrange\u001b[0m\u001b[0;34m(\u001b[0m\u001b[0;36m5\u001b[0m\u001b[0;34m)\u001b[0m\u001b[0;34m:\u001b[0m\u001b[0;34m\u001b[0m\u001b[0;34m\u001b[0m\u001b[0m\n",
            "\u001b[0;31mNameError\u001b[0m: name 'plt' is not defined"
          ]
        }
      ]
    },
    {
      "cell_type": "code",
      "metadata": {
        "id": "1vEd1Z3WTN21"
      },
      "source": [
        "sum1 = np.sum(no1>0, (1,2)) # threshold before adding up\n",
        "sum0 = np.sum(no0>0, (1,2))"
      ],
      "execution_count": null,
      "outputs": []
    },
    {
      "cell_type": "code",
      "metadata": {
        "id": "uKGjX0kGTRW1"
      },
      "source": [
        "def getHullPixels(img):\n",
        "  im1 = cumArray(img)\n",
        "  im2 = np.rot90(cumArray(np.rot90(img)), 3) # rotate and cumulate it again for differnt direction\n",
        "  im3 = np.rot90(cumArray(np.rot90(img, 2)), 2)\n",
        "  im4 = np.rot90(cumArray(np.rot90(img, 3)), 1)\n",
        "  hull =  im1 & im2 & im3 & im4 # this will create a binary image with all the holes filled in.\n",
        "  return hull"
      ],
      "execution_count": null,
      "outputs": []
    },
    {
      "cell_type": "code",
      "metadata": {
        "id": "82N7JvjqTYUj"
      },
      "source": [
        "hull1 = np.array([getHullPixels(i).sum() for i in no1])\n",
        "hull0 = np.array([getHullPixels(i).sum() for i in no0])"
      ],
      "execution_count": null,
      "outputs": []
    },
    {
      "cell_type": "code",
      "metadata": {
        "id": "RT623XcLTb8G"
      },
      "source": [
        "def minus(a, b):\n",
        "  return a & ~ b\n",
        "\n",
        "def getBoundaryPixels(img):\n",
        "  img = img.copy()>0  # binarize the image\n",
        "  rshift = np.roll(img, 1, 1)\n",
        "  lshift = np.roll(img, -1 ,1)\n",
        "  ushift = np.roll(img, -1, 0)\n",
        "  dshift = np.roll(img, 1, 0)\n",
        "  boundary = minus(img, rshift) | minus(img, lshift) | minus(img, ushift) | minus(img, dshift)\n",
        "  return boundary"
      ],
      "execution_count": null,
      "outputs": []
    },
    {
      "cell_type": "code",
      "metadata": {
        "id": "K4YGhsDFTjz9"
      },
      "source": [
        "bound1 = np.array([getBoundaryPixels(i).sum() for i in no1])\n",
        "bound0= np.array([getBoundaryPixels(i).sum() for i in no0])"
      ],
      "execution_count": null,
      "outputs": []
    },
    {
      "cell_type": "code",
      "metadata": {
        "colab": {
          "base_uri": "https://localhost:8080/",
          "height": 231
        },
        "id": "HobSKrhHTmrn",
        "outputId": "b16399e4-ef8c-4147-e356-a21bc52108d7"
      },
      "source": [
        "cl1 = ['class 1']*len(sum1)\n",
        "cl0 = ['class 0']*len(sum0)\n",
        "df = pd.DataFrame(list(zip(np.concatenate((hull1, hull0)), np.concatenate((sum1,sum0)), \n",
        "                           np.concatenate((bound1,bound0)), np.concatenate((cl1, cl0)))),\n",
        "               columns =['Hull', 'Sum', 'Boundary', 'Class'])\n",
        "df.head()\n",
        "fig = px.scatter_3d(df, x='Hull', y='Sum', z='Boundary', color='Class', opacity=0.1)\n",
        "fig.show()"
      ],
      "execution_count": 1,
      "outputs": [
        {
          "output_type": "error",
          "ename": "NameError",
          "evalue": "ignored",
          "traceback": [
            "\u001b[0;31m---------------------------------------------------------------------------\u001b[0m",
            "\u001b[0;31mNameError\u001b[0m                                 Traceback (most recent call last)",
            "\u001b[0;32m<ipython-input-1-e442314bde50>\u001b[0m in \u001b[0;36m<module>\u001b[0;34m()\u001b[0m\n\u001b[0;32m----> 1\u001b[0;31m \u001b[0mcl1\u001b[0m \u001b[0;34m=\u001b[0m \u001b[0;34m[\u001b[0m\u001b[0;34m'class 1'\u001b[0m\u001b[0;34m]\u001b[0m\u001b[0;34m*\u001b[0m\u001b[0mlen\u001b[0m\u001b[0;34m(\u001b[0m\u001b[0msum1\u001b[0m\u001b[0;34m)\u001b[0m\u001b[0;34m\u001b[0m\u001b[0;34m\u001b[0m\u001b[0m\n\u001b[0m\u001b[1;32m      2\u001b[0m \u001b[0mcl0\u001b[0m \u001b[0;34m=\u001b[0m \u001b[0;34m[\u001b[0m\u001b[0;34m'class 0'\u001b[0m\u001b[0;34m]\u001b[0m\u001b[0;34m*\u001b[0m\u001b[0mlen\u001b[0m\u001b[0;34m(\u001b[0m\u001b[0msum0\u001b[0m\u001b[0;34m)\u001b[0m\u001b[0;34m\u001b[0m\u001b[0;34m\u001b[0m\u001b[0m\n\u001b[1;32m      3\u001b[0m df = pd.DataFrame(list(zip(np.concatenate((hull1, hull0)), np.concatenate((sum1,sum0)), \n\u001b[1;32m      4\u001b[0m                            np.concatenate((bound1,bound0)), np.concatenate((cl1, cl0)))),\n\u001b[1;32m      5\u001b[0m                columns =['Hull', 'Sum', 'Boundary', 'Class'])\n",
            "\u001b[0;31mNameError\u001b[0m: name 'sum1' is not defined"
          ]
        }
      ]
    },
    {
      "cell_type": "markdown",
      "metadata": {
        "id": "yP0SeNSNUddM"
      },
      "source": [
        "How would you test or visualize four or more features?"
      ]
    },
    {
      "cell_type": "markdown",
      "metadata": {
        "id": "gnxeieefUhWQ"
      },
      "source": [
        "May be we can use neural networks to visualize. But to exolore this question we need some intuition in neural networks which we yet to cover........"
      ]
    },
    {
      "cell_type": "markdown",
      "metadata": {
        "id": "WvUMH6vlUmBl"
      },
      "source": [
        "Can you come with your own features?"
      ]
    },
    {
      "cell_type": "markdown",
      "metadata": {
        "id": "GV4DOE08Uqkl"
      },
      "source": [
        "4.Will these features work for different classes other than 0 and 1?"
      ]
    },
    {
      "cell_type": "code",
      "metadata": {
        "id": "CPrP_R4XUuS2"
      },
      "source": [
        "no1= train_X[train_y==4,:,:]\n",
        "no8= train_X[train_y==5,:,:]"
      ],
      "execution_count": null,
      "outputs": []
    },
    {
      "cell_type": "code",
      "metadata": {
        "id": "Lx6Go6RVUwhz"
      },
      "source": [
        "for ii in range(5):\n",
        "  plt.subplot(1, 5, ii+1)\n",
        "  plt.imshow(no1[ii,:,:])\n",
        "plt.show()\n",
        "for ii in range(5):\n",
        "  plt.subplot(1, 5, ii+1)\n",
        "  plt.imshow(no8[ii,:,:])\n",
        "plt.show()"
      ],
      "execution_count": null,
      "outputs": []
    },
    {
      "cell_type": "code",
      "metadata": {
        "id": "7MDsBwzoUy_-"
      },
      "source": [
        "sum1 = np.sum(no1>0, (1,2)) # threshold before adding up\n",
        "sum8 = np.sum(no8>0, (1,2))"
      ],
      "execution_count": null,
      "outputs": []
    },
    {
      "cell_type": "code",
      "metadata": {
        "id": "-n6PJ1UAU1bd"
      },
      "source": [
        "# histogram for 1 and 8.\n",
        "plt.hist(sum1, alpha=0.7);\n",
        "plt.hist(sum8, alpha=0.7);"
      ],
      "execution_count": null,
      "outputs": []
    },
    {
      "cell_type": "markdown",
      "metadata": {
        "id": "mrGbb58EU4dL"
      },
      "source": [
        "It distingushes between 1 and 8. But some part merged. This feature is not workig to distinguise"
      ]
    },
    {
      "cell_type": "code",
      "metadata": {
        "id": "vGG1RTqxU72F"
      },
      "source": [
        "#histobram for 4 and 5\n",
        "plt.hist(sum1, alpha=0.7);\n",
        "plt.hist(sum8, alpha=0.7);"
      ],
      "execution_count": null,
      "outputs": []
    },
    {
      "cell_type": "markdown",
      "metadata": {
        "id": "CQv5yQUTU_CB"
      },
      "source": [
        "these features does not distingush between numbers. But it works fine for 0 and 1 not for other numbers."
      ]
    },
    {
      "cell_type": "code",
      "metadata": {
        "id": "aCpjWUK9VCDr"
      },
      "source": [
        "def cumArray(img):\n",
        "  img2 = img.copy()\n",
        "  for ii in range(1, img2.shape[1]):\n",
        "    img2[ii,:] = img2[ii,:] + img2[ii-1,:]  # for every row, add up all the rows above it.\n",
        "  img2 = img2>0\n",
        "  return img2\n",
        "\n",
        "def getHolePixels(img):\n",
        "  im1 = cumArray(img)\n",
        "  im2 = np.rot90(cumArray(np.rot90(img)), 3) # rotate and cumulate it again for differnt direction\n",
        "  im3 = np.rot90(cumArray(np.rot90(img, 2)), 2)\n",
        "  im4 = np.rot90(cumArray(np.rot90(img, 3)), 1)\n",
        "  hull =  im1 & im2 & im3 & im4 # this will create a binary image with all the holes filled in.\n",
        "  hole = hull & ~ (img>0) # remove the original digit to leave behind the holes\n",
        "  return hole"
      ],
      "execution_count": null,
      "outputs": []
    },
    {
      "cell_type": "code",
      "metadata": {
        "id": "IMzwPmYoVEhx"
      },
      "source": [
        "imgs = [no1[456,:,:],  no8[456,:,:]]\n",
        "for img in imgs:\n",
        "  plt.subplot(1,2,1)\n",
        "  plt.imshow(getHolePixels(img))\n",
        "  plt.subplot(1,2,2)\n",
        "  plt.imshow(img)\n",
        "  plt.show()"
      ],
      "execution_count": null,
      "outputs": []
    },
    {
      "cell_type": "code",
      "metadata": {
        "id": "-krBA5o2VHpK"
      },
      "source": [
        "hole1 = np.array([getHolePixels(i).sum() for i in no1])\n",
        "hole8 = np.array([getHolePixels(i).sum() for i in no8])\n",
        "  \n",
        "plt.hist(hole1, alpha=0.7);\n",
        "plt.hist(hole8, alpha=0.7);"
      ],
      "execution_count": null,
      "outputs": []
    },
    {
      "cell_type": "code",
      "metadata": {
        "id": "IULV-BTlVKJp"
      },
      "source": [
        "def getHullPixels(img):\n",
        "  im1 = cumArray(img)\n",
        "  im2 = np.rot90(cumArray(np.rot90(img)), 3) # rotate and cumulate it again for differnt direction\n",
        "  im3 = np.rot90(cumArray(np.rot90(img, 2)), 2)\n",
        "  im4 = np.rot90(cumArray(np.rot90(img, 3)), 1)\n",
        "  hull =  im1 & im2 & im3 & im4 # this will create a binary image with all the holes filled in.\n",
        "  return hull"
      ],
      "execution_count": null,
      "outputs": []
    },
    {
      "cell_type": "code",
      "metadata": {
        "id": "fMAg_XgBVNjw"
      },
      "source": [
        "imgs = [no1[456,:,:],  no8[456,:,:]]\n",
        "for img in imgs:\n",
        "  plt.subplot(1,2,1)\n",
        "  plt.imshow(getHullPixels(img))\n",
        "  plt.subplot(1,2,2)\n",
        "  plt.imshow(img)\n",
        "  plt.show()"
      ],
      "execution_count": null,
      "outputs": []
    },
    {
      "cell_type": "code",
      "metadata": {
        "id": "7hY2yflBVQxq"
      },
      "source": [
        "hull1 = np.array([getHullPixels(i).sum() for i in no1])\n",
        "hull8 = np.array([getHullPixels(i).sum() for i in no8])\n",
        "\n",
        "plt.hist(hull1, alpha=0.7);\n",
        "plt.hist(hull8, alpha=0.7);"
      ],
      "execution_count": null,
      "outputs": []
    },
    {
      "cell_type": "code",
      "metadata": {
        "id": "aOC_dy6NVUYV"
      },
      "source": [
        "def minus(a, b):\n",
        "  return a & ~ b\n",
        "\n",
        "def getBoundaryPixels(img):\n",
        "  img = img.copy()>0  # binarize the image\n",
        "  rshift = np.roll(img, 1, 1)\n",
        "  lshift = np.roll(img, -1 ,1)\n",
        "  ushift = np.roll(img, -1, 0)\n",
        "  dshift = np.roll(img, 1, 0)\n",
        "  boundary = minus(img, rshift) | minus(img, lshift) | minus(img, ushift) | minus(img, dshift)\n",
        "  return boundary"
      ],
      "execution_count": null,
      "outputs": []
    },
    {
      "cell_type": "code",
      "metadata": {
        "id": "hDoxI_-GVXHl"
      },
      "source": [
        "bound1 = np.array([getBoundaryPixels(i).sum() for i in no1])\n",
        "bound8= np.array([getBoundaryPixels(i).sum() for i in no8])\n",
        "\n",
        "plt.hist(bound1, alpha=0.7);\n",
        "plt.hist(bound8, alpha=0.7)"
      ],
      "execution_count": null,
      "outputs": []
    },
    {
      "cell_type": "markdown",
      "metadata": {
        "id": "9N_n8r8ZVarp"
      },
      "source": [
        "What will happen if we take more that two classes at a time?"
      ]
    },
    {
      "cell_type": "code",
      "metadata": {
        "id": "brrhcdddVdZ7"
      },
      "source": [
        "no1 = train_X[train_y==1,:,:]\n",
        "no0 = train_X[train_y==0,:,:]\n",
        "no2 = train_X[train_y==2,:,:]\n"
      ],
      "execution_count": null,
      "outputs": []
    },
    {
      "cell_type": "code",
      "metadata": {
        "id": "Ryyb1aInVgdL"
      },
      "source": [
        "for ii in range(5):\n",
        "  plt.subplot(1, 5, ii+1)\n",
        "  plt.imshow(no1[ii,:,:])\n",
        "plt.show()\n",
        "for ii in range(5):\n",
        "  plt.subplot(1, 5, ii+1)\n",
        "  plt.imshow(no0[ii,:,:])\n",
        "plt.show()\n",
        "for kk in range(5):\n",
        "  plt.subplot(1,5,kk+1)\n",
        "  plt.imshow(no2[kk,:,:])\n",
        "plt.show()"
      ],
      "execution_count": null,
      "outputs": []
    },
    {
      "cell_type": "code",
      "metadata": {
        "id": "u2Z6awNFVi9w"
      },
      "source": [
        "sum1 = np.sum(no1>0, (1,2)) # threshold before adding up\n",
        "sum0 = np.sum(no0>0, (1,2))\n",
        "sum2 = np.sum(no2>0, (1,2))\n"
      ],
      "execution_count": null,
      "outputs": []
    },
    {
      "cell_type": "code",
      "metadata": {
        "id": "hhqQY35-VlTO"
      },
      "source": [
        "plt.hist(sum1, alpha=0.7);\n",
        "plt.hist(sum0, alpha=0.7);\n",
        "plt.hist(sum2, alpha=0.7);"
      ],
      "execution_count": null,
      "outputs": []
    },
    {
      "cell_type": "markdown",
      "metadata": {
        "id": "CE9pimI5Vn4Y"
      },
      "source": [
        "We can take more than two classes at a time. But these features do not work to distinguise numbers."
      ]
    }
  ]
}