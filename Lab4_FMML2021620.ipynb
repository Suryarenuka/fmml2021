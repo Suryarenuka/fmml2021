{
  "nbformat": 4,
  "nbformat_minor": 0,
  "metadata": {
    "colab": {
      "name": "Lab4_FMML2021620.ipynb",
      "provenance": [],
      "authorship_tag": "ABX9TyOuzlFFi1iwTpRfhXQUDSuX",
      "include_colab_link": true
    },
    "kernelspec": {
      "name": "python3",
      "display_name": "Python 3"
    },
    "language_info": {
      "name": "python"
    }
  },
  "cells": [
    {
      "cell_type": "markdown",
      "metadata": {
        "id": "view-in-github",
        "colab_type": "text"
      },
      "source": [
        "<a href=\"https://colab.research.google.com/github/Suryarenuka/fmml2021/blob/main/Lab4_FMML2021620.ipynb\" target=\"_parent\"><img src=\"https://colab.research.google.com/assets/colab-badge.svg\" alt=\"Open In Colab\"/></a>"
      ]
    },
    {
      "cell_type": "markdown",
      "metadata": {
        "id": "MoP8-WTPOQ0H"
      },
      "source": [
        "Questions:\n",
        "\n",
        "1.Experiment with different transformation matrices and check the accuracy\n",
        "\n",
        "2.Will the same transform used for these two features also work for other features?"
      ]
    },
    {
      "cell_type": "markdown",
      "metadata": {
        "id": "7LC6LiyNOVBU"
      },
      "source": [
        "1.Experiment with different transformation matrices and check the accuracy"
      ]
    },
    {
      "cell_type": "markdown",
      "metadata": {
        "id": "4Rf8DxbDOY4J"
      },
      "source": [
        "I used different types of transformation matrices and for some matrices there is no change in accuracy but in some cases the accuracy was decreasing more i.e it was going under base line accuracy."
      ]
    },
    {
      "cell_type": "markdown",
      "metadata": {
        "id": "BrbKskUMOcu0"
      },
      "source": [
        "2.Will the same transform used for these two features also work for other features?"
      ]
    },
    {
      "cell_type": "markdown",
      "metadata": {
        "id": "7XSXI96YOgxn"
      },
      "source": [
        "No the same transform used for these two features was not working for any other combination of features.\n",
        "\n",
        "When i test by taking other features with same matrix there is no change in accuracy it was same and decreasing for all cases."
      ]
    }
  ]
}