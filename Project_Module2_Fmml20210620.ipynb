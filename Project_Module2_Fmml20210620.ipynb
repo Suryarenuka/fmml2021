{
  "nbformat": 4,
  "nbformat_minor": 0,
  "metadata": {
    "colab": {
      "name": "Project_Module2_Fmml20210620.ipynb",
      "provenance": [],
      "authorship_tag": "ABX9TyPZv0m+EM/ECJkOURgtHc3B",
      "include_colab_link": true
    },
    "kernelspec": {
      "display_name": "Python 3",
      "name": "python3"
    },
    "language_info": {
      "name": "python"
    }
  },
  "cells": [
    {
      "cell_type": "markdown",
      "metadata": {
        "id": "view-in-github",
        "colab_type": "text"
      },
      "source": [
        "<a href=\"https://colab.research.google.com/github/Suryarenuka/fmml2021/blob/main/Project_Module2_Fmml20210620.ipynb\" target=\"_parent\"><img src=\"https://colab.research.google.com/assets/colab-badge.svg\" alt=\"Open In Colab\"/></a>"
      ]
    },
    {
      "cell_type": "markdown",
      "metadata": {
        "id": "8Pf1HcFtf4bT"
      },
      "source": [
        "MODULE 2: Appreciating, Interpreting and Visualizing Data\n",
        "\n",
        "Coordinator: Kushagra Agarwal\n",
        "\n",
        "Project"
      ]
    },
    {
      "cell_type": "markdown",
      "metadata": {
        "id": "8BBeyGECgCCU"
      },
      "source": [
        "For the last 2 years we have been severely affected by the COVID-19 pandemic. And if you would know a little about it, you would have heard about SARS-CoV-2 (Severe Acute Respiratory Syndrome Coronavirus 2) which is the virus responsible for the COVID-19 disease.\n",
        "\n",
        "A little biology might intrigue you further. This SARS-CoV-2 is a RNA virus and when this virus enters your body, it interacts with the ACE-2 receptor using its Spike protein. When this happens, it gets access to be able to multiply inside your body, ultimately resulting in you getting infected with the COVID-19 disease.\n",
        "\n",
        "Before I explain you the details of the project and what you will be doing, let me first introduce you to what a virus genome is. Every living organism in this world has someting called a Nucleus which produces its characteristic genome sequence. Even your body has a genome and it will be very different from that of lets say a cat. Now, this SARS-CoV-2 virus also has its characteristic genome sequence and it is roughly of the length 29000 bases. A little more Class 9 biology lesson: Each genome is built up with just 4 characters called bases (A, T, G and C).\n",
        "\n",
        "For this project, I will provide you with some SARS-CoV-2 genomes collected from infected people in India and you will use just the Visualization techniques you learnt in the module to analyze the genomes and infer the spread of the COVID-19 disease in the country.\n",
        "\n"
      ]
    },
    {
      "cell_type": "markdown",
      "metadata": {
        "id": "ER1FJZvCgT_7"
      },
      "source": [
        "685 genome sequences from India downloaded from GISAID (https://www.gisaid.org/) in early to mid 2020 have been provided to you in the sequences.fasta file and some cleaned metadata regarding these sequences has been given in the INDIA_685.csv file."
      ]
    },
    {
      "cell_type": "code",
      "metadata": {
        "id": "x_MnW3XmgZrB"
      },
      "source": [
        "from google.colab import files"
      ],
      "execution_count": 1,
      "outputs": []
    },
    {
      "cell_type": "code",
      "metadata": {
        "colab": {
          "resources": {
            "http://localhost:8080/nbextensions/google.colab/files.js": {
              "data": "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",
              "ok": true,
              "headers": [
                [
                  "content-type",
                  "application/javascript"
                ]
              ],
              "status": 200,
              "status_text": ""
            }
          },
          "base_uri": "https://localhost:8080/",
          "height": 38
        },
        "id": "JHJn8EYIgcU1",
        "outputId": "914da032-9cf2-48b6-e3a7-758600b445cb"
      },
      "source": [
        "# Upload the INDIA_685.csv file here by running this cell\n",
        "\n",
        "uploaded1 = files.upload()"
      ],
      "execution_count": null,
      "outputs": [
        {
          "output_type": "display_data",
          "data": {
            "text/html": [
              "\n",
              "     <input type=\"file\" id=\"files-11d1c803-1c34-447d-b1ee-e179b3d6b11b\" name=\"files[]\" multiple disabled\n",
              "        style=\"border:none\" />\n",
              "     <output id=\"result-11d1c803-1c34-447d-b1ee-e179b3d6b11b\">\n",
              "      Upload widget is only available when the cell has been executed in the\n",
              "      current browser session. Please rerun this cell to enable.\n",
              "      </output>\n",
              "      <script src=\"/nbextensions/google.colab/files.js\"></script> "
            ],
            "text/plain": [
              "<IPython.core.display.HTML object>"
            ]
          },
          "metadata": {}
        }
      ]
    },
    {
      "cell_type": "code",
      "metadata": {
        "id": "xuY4t2qGgfy3"
      },
      "source": [
        "# Upload the sequences.fasta file here by running this cell\n",
        "\n",
        "uploaded2 = files.upload()"
      ],
      "execution_count": null,
      "outputs": []
    },
    {
      "cell_type": "code",
      "metadata": {
        "id": "ecKUUQzEgkPO"
      },
      "source": [
        "!pip3 install biopython"
      ],
      "execution_count": null,
      "outputs": []
    },
    {
      "cell_type": "code",
      "metadata": {
        "id": "3AyHbxuZg4GF"
      },
      "source": [
        "import pandas as pd\n",
        "import numpy as np\n",
        "from Bio import SeqIO"
      ],
      "execution_count": null,
      "outputs": []
    },
    {
      "cell_type": "code",
      "metadata": {
        "id": "6dgj61v1g6o0"
      },
      "source": [
        "data = pd.read_csv(\"INDIA_685.csv\")\n",
        "data.tail()"
      ],
      "execution_count": null,
      "outputs": []
    },
    {
      "cell_type": "code",
      "metadata": {
        "id": "auXebbdShAlc"
      },
      "source": [
        "fasta_sequences = SeqIO.parse(open(\"sequences.fasta\"),'fasta')\n",
        "\n",
        "counter = 0\n",
        "for fasta in fasta_sequences:\n",
        "    counter +=1\n",
        "    \n",
        "print(\"Number of sequences is:\", counter)    "
      ],
      "execution_count": null,
      "outputs": []
    },
    {
      "cell_type": "markdown",
      "metadata": {
        "id": "3sSrSjzLhLBY"
      },
      "source": [
        "You might have heard in the news that the SARS-CoV-2 is mutating and might have heard the words Double Mutant, Delta Variant and so on. These are nothing but very slight differences in the genomes caused due to Mutations. Some of these mutations end up making the virus deadlier or more infectious.\n",
        "\n",
        "Our goal here is to analyze these genomes and find the ones closer to one another (similar mutations in both) or distant (different profile of mutations). These mutations in turn help us to understand the spread of the Virus and the Demographics of it. Imagine a sequence from Italy has the same set of 10 random mutations as a sequence in India. We can then infer that the source of infection for both the people could be the same. This sort of analysis helps us analyze hotspots and predict if a large outbreak is about to happen.\n",
        "\n",
        "We will try to look at these genome sequences and be able to cluster similar ones together and distant ones furhter away. In this project you will be using two methods to do this:\n",
        "\n",
        "1. k-mer based methods\n",
        "2. Mutation Profile based methods"
      ]
    },
    {
      "cell_type": "markdown",
      "metadata": {
        "id": "l2Ho8q-FhTSV"
      },
      "source": [
        "kmer based methods\n",
        "In bioinformatics, k-mers are substrings of length k contained within a biological sequence. A sequence of length L will have L-k+1 k-mers and 4^k total possible k-mers. Here we, will be using kmers of size 7. We will represent each genome in this kmer space. Basically a genome of size 30000 bases would have a total of 29994 7-mers.\n",
        "\n",
        "Now how do you use this information to cluster genome sequences?\n",
        "We would be looking at the counts of different kmers in the genomes and the ones which have similar counts for different kmers should end up closer than the others.\n",
        "\n",
        "For k=7, there are 16384 possible kmers. We will represent each genome sequence as a vector of size 16384 with each position scoring the frequency of the kmer corresponding to that position.\n",
        "\n",
        "But how do we find out the position in the array for a kmer?\n",
        "We will be using a hash function to map each kmer to a position in the array (0 to 16383). Whenever that kmer will be observed in a sequence, the value at the corresponding position in the array would be increased by 1.\n",
        "\n",
        "Hash function:\n",
        "A: 0\n",
        "G: 1\n",
        "T: 2\n",
        "C: 3\n",
        "\n",
        "Multiply the character value by 4^(position of the character in the kmer)\n",
        "therefore, TAG would equal = (4^0 * 2) + (4^1 * 0) + (4^2 * 1) = 2 + 0 + 16 = 18\n",
        "\n",
        "Can you find out the hash value for CATCGAG?"
      ]
    },
    {
      "cell_type": "code",
      "metadata": {
        "id": "g5w5T3QohYrj"
      },
      "source": [
        "def calc_score(examplesequence):\n",
        "\n",
        "    position = 0\n",
        "    score = 0\n",
        "    value = 0\n",
        "    flag = 0\n",
        "    \n",
        "    for base in examplesequence:\n",
        "\n",
        "        if(base == \"A\" or base == \"a\"):\n",
        "            value = 0\n",
        "        elif(base == \"G\" or base == \"g\"):\n",
        "            value = 1\n",
        "        elif(base == \"T\" or base == \"t\"):\n",
        "            value = 2\n",
        "        elif(base == \"C\" or base == \"c\"):\n",
        "            value = 3\n",
        "        else:\n",
        "            flag=1\n",
        "\n",
        "        score += (4 ** position)* value\n",
        "        position+=1\n",
        "\n",
        "    return (flag,score)\n",
        "    \n",
        "calc_score(\"ATAGTAG\")"
      ],
      "execution_count": null,
      "outputs": []
    },
    {
      "cell_type": "code",
      "metadata": {
        "id": "YuRPZtrOhc2I"
      },
      "source": [
        "k=7\n",
        "big_matrix = []\n",
        "sequences_name = []\n",
        "\n",
        "fasta_sequences = SeqIO.parse(open(\"sequences.fasta\"),'fasta')\n",
        "\n",
        "for fasta in fasta_sequences:\n",
        "    \n",
        "    embedding = np.zeros(4**k, dtype=int)\n",
        "    sequence = str(fasta.seq)\n",
        "    sequence_name = fasta.id\n",
        "    sequences_name.append(sequence_name)\n",
        "\n",
        "    for j in range(len(sequence)-k+1):\n",
        "        kmer = sequence[j:j+k]\n",
        "        flag,score = calc_score(kmer)\n",
        "        if(flag!=1):\n",
        "            embedding[score]+=1\n",
        "\n",
        "    embedding = embedding.tolist()\n",
        "    big_matrix.append(embedding)"
      ],
      "execution_count": null,
      "outputs": []
    },
    {
      "cell_type": "code",
      "metadata": {
        "id": "PzbuETdUhgRX"
      },
      "source": [
        "print(\"Number of sequences:\", len(sequences_name))\n",
        "print(\"Number of features for each sequence:\", len(big_matrix[0]))"
      ],
      "execution_count": null,
      "outputs": []
    },
    {
      "cell_type": "markdown",
      "metadata": {
        "id": "DqnnCwKBhqAb"
      },
      "source": [
        "So essentially we reduced a 29000 base sequence into a vector of size 16384. Now we need to further reduce the dimensionality to 2 or 3 dimensions to be able to visualize it.\n",
        "\n",
        "But how dow we do that??\n",
        "\n",
        "We can use any of the methods taught to you in the Labs. But here I will explain how to do this using PCA. Then you will use the knowledge from Lab3 on t-SNE to do a similar analysis yourself.\n",
        "\n",
        "PCA"
      ]
    },
    {
      "cell_type": "code",
      "metadata": {
        "id": "Ov8cZ4gihtye"
      },
      "source": [
        "from sklearn.decomposition import PCA\n",
        "\n",
        "pca = PCA() # create a PCA object\n",
        "pca.fit(big_matrix) # do the math\n",
        "pca_data = pca.transform(big_matrix) # get PCA coordinates for the matrix"
      ],
      "execution_count": null,
      "outputs": []
    },
    {
      "cell_type": "code",
      "metadata": {
        "id": "PyHc2oY2hxqH"
      },
      "source": [
        "import matplotlib.pyplot as plt\n",
        "\n",
        "per_var = np.round(pca.explained_variance_ratio_* 100, decimals=1)\n",
        "labels_all = ['PC'+str(x) for x in range(1, len(per_var)+1)]\n",
        "per_var=per_var[:10]\n",
        "labels = [str(x) for x in range(1, len(per_var)+1)]\n",
        "\n",
        "with plt.style.context('dark_background'):\n",
        "    plt.figure(figsize = (15, 9))\n",
        "    plt.xlabel(\"Number of Principal Components\")\n",
        "    plt.ylabel(\"Percentage of variance explained\")\n",
        "    plt.bar(range(1,len(per_var)+1), per_var, tick_label=labels, color = \"aqua\")\n",
        "    plt.plot(range(1,len(per_var)+1), np.cumsum(per_var), color = \"red\")\n",
        "    plt.scatter(range(1,len(per_var)+1), np.cumsum(per_var), color = \"yellow\")"
      ],
      "execution_count": null,
      "outputs": []
    },
    {
      "cell_type": "markdown",
      "metadata": {
        "id": "eXccCeYCh5lX"
      },
      "source": [
        "As you can see, the first principal component alone explains more than 50% of the variance in the dataset. To put this into context, more than 50% variance in 685 genomes of size 29000 bases could be explained with just one dimension. This shows the amount of structure present in the dataset.\n",
        "\n",
        "We will be now visualizing the first 2 principal components and plot the genomes according to the State they belonged to."
      ]
    },
    {
      "cell_type": "code",
      "metadata": {
        "id": "8Nzww-ddh-X0"
      },
      "source": [
        "final_df = pd.DataFrame(columns=[\"StrainID\", \"PC1\", \"PC2\", \"PC3\", \"State\"])\n",
        "pca_df = pd.DataFrame(pca_data, index=[*sequences_name], columns = labels_all)\n",
        "\n",
        "for sample in pca_df.index:\n",
        "    \n",
        "    dicti = dict()\n",
        "    \n",
        "    dicti[\"StrainID\"] = sample\n",
        "    dicti[\"PC1\"] = pca_df.PC1.loc[sample]\n",
        "    dicti[\"PC2\"] = pca_df.PC2.loc[sample]\n",
        "    dicti[\"PC3\"] = pca_df.PC3.loc[sample]\n",
        "    dicti[\"State\"] = data[data[\"StrainID\"]==sample][\"State\"].tolist()[0]\n",
        "    \n",
        "    final_df = final_df.append(dicti, ignore_index = True)\n",
        "\n",
        "final_df.head()"
      ],
      "execution_count": null,
      "outputs": []
    },
    {
      "cell_type": "code",
      "metadata": {
        "id": "LO_273eAiCqs"
      },
      "source": [
        "import plotly.graph_objs as go\n",
        "import plotly.express as px"
      ],
      "execution_count": null,
      "outputs": []
    },
    {
      "cell_type": "code",
      "metadata": {
        "id": "-vEPWAO6iFOl"
      },
      "source": [
        "for_x = final_df.PC1.tolist()\n",
        "for_y = final_df.PC2.tolist()\n",
        "for_states = final_df.State.tolist()\n",
        "for_hover = final_df.StrainID.tolist()\n",
        "\n",
        "fig = px.scatter(x=for_x, y=for_y, color=for_states, title=\"Principal Component Axis\",\n",
        "                color_discrete_map={\n",
        "                \"Stateless\": \"grey\",\n",
        "                \"Tamil Nadu\": \"green\",\n",
        "                \"Telangana\": \"red\",\n",
        "                \"Maharashtra\": \"orange\",\n",
        "                \"Gujarat\": \"magenta\",\n",
        "                \"Delhi\": \"purple\",\n",
        "                \"West Bengal\": \"aqua\",\n",
        "                \"Haryana\": \"pink\",\n",
        "                \"Odisha\": \"blue\",\n",
        "                \"Madhya Pradesh\": \"brown\",\n",
        "                \"Karnataka\": \"black\"\n",
        "                })\n",
        "\n",
        "fig.show(renderer = \"colab\")"
      ],
      "execution_count": null,
      "outputs": []
    },
    {
      "cell_type": "markdown",
      "metadata": {
        "id": "NSgprtBIidWg"
      },
      "source": [
        "Even though the plot looks densely clustered, there are still a lot of obvious observations that you should be able to make.\n",
        "\n",
        "The first one, is that for some reason the Blue dots (Odisha) are scattered away from the big main cluster.\n",
        "image.png\n",
        "\n",
        "Also, we can observe a secondary cluster away from the primary cluster. On inspecting, we can see that the sequences forming this cluster are primarily from Telangana (red), Delhi (magenta), and Tamil Nadu (green).\n",
        "image.png\n",
        "\n",
        "The third less obvious observation is that within the main cluster, there is a dense cluster of sequences from Gujarat.\n",
        "image.png"
      ]
    },
    {
      "cell_type": "markdown",
      "metadata": {
        "id": "26dX-AgwixSt"
      },
      "source": [
        "t-SNE"
      ]
    },
    {
      "cell_type": "code",
      "metadata": {
        "id": "DVzPRraki0aM"
      },
      "source": [
        "from sklearn.manifold import TSNE\n",
        "\n",
        "# Use these parameters\n",
        "random_state = 0\n",
        "n_components = 2\n",
        "perplexity = 30\n",
        "n_iter = 10000\n",
        "\n",
        "####### Enter code below ####### \n",
        "\n",
        "model = TSNE(n_components=2, random_state=random_state, perplexity=perplexity, n_iter=n_iter)\n",
        "tsne_data = model.fit_transform(big_matrix)\n",
        "\n",
        "################################"
      ],
      "execution_count": null,
      "outputs": []
    },
    {
      "cell_type": "code",
      "metadata": {
        "id": "Yp6_AVA0i5Rd"
      },
      "source": [
        "final_df = pd.DataFrame(columns=[\"StrainID\", \"X\", \"Y\", \"State\"])\n",
        "pca_df = pd.DataFrame(pca_data, index=[*sequences_name], columns = labels_all)\n",
        "\n",
        "i = 0\n",
        "for sample in pca_df.index:\n",
        "    \n",
        "    dicti = dict()\n",
        "    \n",
        "    dicti[\"StrainID\"] = sample\n",
        "    dicti[\"X\"] = tsne_data[i][0]\n",
        "    dicti[\"Y\"] = tsne_data[i][1]\n",
        "    dicti[\"State\"] = data[data[\"StrainID\"]==sample][\"State\"].tolist()[0]\n",
        "    \n",
        "    final_df = final_df.append(dicti, ignore_index = True)\n",
        "    i+=1\n",
        "\n",
        "final_df.tail()"
      ],
      "execution_count": null,
      "outputs": []
    },
    {
      "cell_type": "code",
      "metadata": {
        "id": "ib6gb6PDi-hh"
      },
      "source": [
        "for_x = final_df.X.tolist()\n",
        "for_y = final_df.Y.tolist()\n",
        "for_states = final_df.State.tolist()\n",
        "for_hover = final_df.StrainID.tolist()\n",
        "\n",
        "fig = px.scatter(x=for_x, y=for_y, color=for_states, title=\"t-SNE\", height=600, width=1000,\n",
        "                color_discrete_map={\n",
        "                \"Stateless\": \"grey\",\n",
        "                \"Tamil Nadu\": \"green\",\n",
        "                \"Telangana\": \"red\",\n",
        "                \"Maharashtra\": \"orange\",\n",
        "                \"Gujarat\": \"magenta\",\n",
        "                \"Delhi\": \"purple\",\n",
        "                \"West Bengal\": \"aqua\",\n",
        "                \"Haryana\": \"pink\",\n",
        "                \"Odisha\": \"blue\",\n",
        "                \"Madhya Pradesh\": \"brown\",\n",
        "                \"Karnataka\": \"black\"})\n",
        "\n",
        "fig.show(renderer = 'colab')"
      ],
      "execution_count": null,
      "outputs": []
    },
    {
      "cell_type": "markdown",
      "metadata": {
        "id": "hQ6UnwzjjEWh"
      },
      "source": [
        "The first one, is the pink dots are spread across all small clusters those are of Gujarat."
      ]
    },
    {
      "cell_type": "markdown",
      "metadata": {
        "id": "CHQXp3oDjIQa"
      },
      "source": [
        "Telangana and Delhi points are formed a cluster which is far away from other points."
      ]
    },
    {
      "cell_type": "markdown",
      "metadata": {
        "id": "HmgcovALjMe_"
      },
      "source": [
        "points of odisha (blue dots) are clustered together with less spread"
      ]
    },
    {
      "cell_type": "markdown",
      "metadata": {
        "id": "zR7j9c2ijQV2"
      },
      "source": [
        "Double-click (or enter) to edit"
      ]
    },
    {
      "cell_type": "markdown",
      "metadata": {
        "id": "b8IzHM9-jWed"
      },
      "source": [
        "You should get a plot similar to this:\n",
        "\n",
        "image.png\n",
        "\n",
        "Does making the 3 observations become easier in this plot? Can you make any other new observations from this plot?\n",
        "\n",
        "Make sure you tweak the parameters to find out if a certain different setting is allowing you to get a more interpretable plot."
      ]
    },
    {
      "cell_type": "markdown",
      "metadata": {
        "id": "YxZ572Fbjb2c"
      },
      "source": [
        "The blue dots of Odisha formed a cluster with less amount of scattering .\n",
        "Telangana and Delhi points are formed a cluster which is far away from other points.\n",
        "\n",
        "The pink dots of Gujarat are spread across the graph and forms small small clusters."
      ]
    },
    {
      "cell_type": "markdown",
      "metadata": {
        "id": "XztVnb2hjfUt"
      },
      "source": [
        "New Observations\n",
        "\n",
        "The yellow dots of maharastra are part of main cluster and it also forms small cluster with little spread from farther away of main cluster.\n",
        "\n",
        "The black dots of karnataka are scatterd separately from main cluster"
      ]
    },
    {
      "cell_type": "markdown",
      "metadata": {
        "id": "4MZ7Rxw3jkRr"
      },
      "source": [
        "Mutation Profile based methods\n",
        "\n",
        "If you would have noticed, there is a column called Nuc_muts (Nucleotide mutations) in the INDIA_685.csv file. These are the specific mutations for each sequence which I have precomputed for you using the first SARS-CoV-2 sequence from Wuhan, China (https://www.ncbi.nlm.nih.gov/nuccore/NC_045512.2?report=fasta) as the reference.\n",
        "\n",
        "A mutation C453T in a sequence means that the original reference sequence from Wuhan had a C at position 453 whereas the sequence has a T at that position.\n",
        "\n",
        "Now instead of using kmers for sequences, this time we will use the presence/absence of all mutations found in our dataset to represent the genomes."
      ]
    },
    {
      "cell_type": "code",
      "metadata": {
        "id": "uG2o7al2jp69"
      },
      "source": [
        "## First we need to get the list of all unique mutations observed in our dataset.\n",
        "\n",
        "mutations = []\n",
        "for i in range(len(data)):\n",
        "\n",
        "    sample_muts = data[\"Nuc_muts\"][i][1:][:-1].split(\",\")\n",
        "\n",
        "    for j in sample_muts:\n",
        "        mut = j.strip()[1:][:-1]\n",
        "        if(len(mut)>=2):\n",
        "            if(mut not in mutations):\n",
        "                mutations.append(mut)\n",
        "\n",
        "print(len(mutations))"
      ],
      "execution_count": null,
      "outputs": []
    },
    {
      "cell_type": "markdown",
      "metadata": {
        "id": "vWfGmZ7CjwgA"
      },
      "source": [
        "So there are 1279 unique mutations in our sequences. We can now represent each genome as a vector of size 1279 where each position indicates the presence (1) or absence (0) of a specific mutation."
      ]
    },
    {
      "cell_type": "code",
      "metadata": {
        "id": "MetPHihvj1rt"
      },
      "source": [
        "samplelist = data[\"StrainID\"].tolist()\n",
        "df = pd.DataFrame(columns = [*samplelist])\n",
        "df = df.replace(np.nan,0)\n",
        "\n",
        "for mutation in mutations:\n",
        "\n",
        "    dicti = dict(zip(samplelist, np.zeros(len(samplelist), dtype=int)))\n",
        "\n",
        "    for i in range(len(data)):\n",
        "        flag=0\n",
        "        strainid = data[\"StrainID\"][i]\n",
        "        sample_muts = data[\"Nuc_muts\"][i][1:][:-1].split(\",\")\n",
        "\n",
        "        for j in sample_muts:\n",
        "            mut = j.strip()[1:][:-1]\n",
        "            if(len(mut)>=2):\n",
        "                if(mut == mutation):\n",
        "                    flag = 1\n",
        "                    break\n",
        "\n",
        "        dicti[strainid]=flag  \n",
        "\n",
        "    df = df.append(dicti, ignore_index = True)\n",
        "    \n",
        "df = df.T\n",
        "\n",
        "df.tail()"
      ],
      "execution_count": null,
      "outputs": []
    },
    {
      "cell_type": "markdown",
      "metadata": {
        "id": "KHFJb_zlkEEO"
      },
      "source": [
        "PCA\n",
        "\n",
        "Performing PCA on this dataframe, we want to reduce the dimensionality of our genome sequences from 1279 to 2."
      ]
    },
    {
      "cell_type": "code",
      "metadata": {
        "id": "W_77-Ln_kJCb"
      },
      "source": [
        "pca = PCA()\n",
        "pca.fit(df)\n",
        "pca_data = pca.transform(df)"
      ],
      "execution_count": null,
      "outputs": []
    },
    {
      "cell_type": "code",
      "metadata": {
        "id": "GiZerNjPkL6B"
      },
      "source": [
        "per_var = np.round(pca.explained_variance_ratio_* 100, decimals=1)\n",
        "labels_all = ['PC'+str(x) for x in range(1, len(per_var)+1)]\n",
        "per_var=per_var[:10]\n",
        "labels = [str(x) for x in range(1, len(per_var)+1)]\n",
        "\n",
        "with plt.style.context('dark_background'):\n",
        "    plt.figure(figsize = (15, 9))\n",
        "    plt.xlabel(\"Number of Principal Components\")\n",
        "    plt.ylabel(\"Percentage of variance explained\")\n",
        "    plt.bar(range(1,len(per_var)+1), per_var, tick_label=labels, color = \"aqua\")\n",
        "    plt.plot(range(1,len(per_var)+1), np.cumsum(per_var), color = \"red\")\n",
        "    plt.scatter(range(1,len(per_var)+1), np.cumsum(per_var), color = \"yellow\")"
      ],
      "execution_count": null,
      "outputs": []
    },
    {
      "cell_type": "markdown",
      "metadata": {
        "id": "i7tqbD06kRB5"
      },
      "source": [
        "The first principal component should be able to capture close to 30% of the variance in the dataset."
      ]
    },
    {
      "cell_type": "code",
      "metadata": {
        "id": "ilPAt_bJkT7f"
      },
      "source": [
        "final_df = pd.DataFrame(columns=[\"StrainID\", \"PC1\", \"PC2\", \"State\"])\n",
        "pca_df = pd.DataFrame(pca_data, index=[*samplelist], columns = labels_all)\n",
        "\n",
        "for sample in pca_df.index:\n",
        "    \n",
        "    dicti = dict()\n",
        "    \n",
        "    dicti[\"StrainID\"] = sample\n",
        "    dicti[\"PC1\"] = pca_df.PC1.loc[sample]\n",
        "    dicti[\"PC2\"] = pca_df.PC2.loc[sample]\n",
        "    dicti[\"State\"] = data[data[\"StrainID\"]==sample][\"State\"].tolist()[0]\n",
        "    \n",
        "    final_df = final_df.append(dicti, ignore_index = True)\n",
        "\n",
        "final_df.tail()"
      ],
      "execution_count": null,
      "outputs": []
    },
    {
      "cell_type": "code",
      "metadata": {
        "id": "bQeDckNgkYVe"
      },
      "source": [
        "for_x = final_df.PC1.tolist()\n",
        "for_y = final_df.PC2.tolist()\n",
        "for_states = final_df.State.tolist()\n",
        "for_hover = final_df.StrainID.tolist()\n",
        "\n",
        "fig = px.scatter(x=for_x, y=for_y, color=for_states, height=600, width=1200,\n",
        "                 title=\"Principal Component Axis\",\n",
        "                color_discrete_map={\n",
        "                \"Stateless\": \"grey\",\n",
        "                \"Tamil Nadu\": \"green\",\n",
        "                \"Telangana\": \"red\",\n",
        "                \"Maharashtra\": \"orange\",\n",
        "                \"Gujarat\": \"magenta\",\n",
        "                \"Delhi\": \"purple\",\n",
        "                \"West Bengal\": \"aqua\",\n",
        "                \"Haryana\": \"pink\",\n",
        "                \"Odisha\": \"blue\",\n",
        "                \"Madhya Pradesh\": \"brown\",\n",
        "                \"Karnataka\": \"black\"})\n",
        "fig.show(renderer = 'colab')"
      ],
      "execution_count": null,
      "outputs": []
    },
    {
      "cell_type": "markdown",
      "metadata": {
        "id": "UIH0R8zCkngo"
      },
      "source": [
        "You should get a plot like this:\n",
        "\n",
        "image.png\n",
        "\n",
        "This makes the above observations so much easier. Can you list them with respect to this plot?"
      ]
    },
    {
      "cell_type": "markdown",
      "metadata": {
        "id": "WIQE-xbHksRN"
      },
      "source": [
        "1.The pink dots of Gujarat are scattered widely and are far away from main cluster.\n",
        "\n",
        "2.The red dots of Telangana are scattered in both primary and secondary clusters.\n",
        "\n",
        "3.The blue dots of Odisha are scattered away from main cluster and are densly placed."
      ]
    },
    {
      "cell_type": "markdown",
      "metadata": {
        "id": "99k3jZ8Jk1iZ"
      },
      "source": [
        "t-SNE\n",
        "\n",
        "Now this time you will be expected to write more than just 3 lines of the code to get the t-SNE plot for this data. Make sure you play with the perplexity values enough to appreciate the algorithm. I hope you are able to retrieve the 3 observations and make some new ones from the plot.\n",
        "\n",
        "You are encouraged to also implement ISOMAP (from Lab-4) and try to get more insights from the plots."
      ]
    },
    {
      "cell_type": "code",
      "metadata": {
        "id": "fwFjOXHYk8KX"
      },
      "source": [
        "from sklearn.manifold import TSNE\n",
        "\n",
        "# Use these parameters\n",
        "random_state = 0\n",
        "n_components = 2\n",
        "perplexity = 50\n",
        "n_iter = 10000\n",
        "\n",
        "####### Enter code below #######\n",
        "\n",
        "model = TSNE(n_components=2, random_state=random_state, perplexity=perplexity, n_iter=n_iter)\n",
        "tsne_data = model.fit_transform(df)\n"
      ],
      "execution_count": null,
      "outputs": []
    },
    {
      "cell_type": "code",
      "metadata": {
        "id": "pDX4RRZKlAIX"
      },
      "source": [
        "final_df = pd.DataFrame(columns=[\"StrainID\", \"X\", \"Y\", \"State\"])\n",
        "pca_df = pd.DataFrame(pca_data, index=[*sequences_name], columns = labels_all)\n",
        "\n",
        "i = 0\n",
        "for sample in pca_df.index:\n",
        "    \n",
        "    dicti = dict()\n",
        "    \n",
        "    dicti[\"StrainID\"] = sample\n",
        "    dicti[\"X\"] = tsne_data[i][0]\n",
        "    dicti[\"Y\"] = tsne_data[i][1]\n",
        "    dicti[\"State\"] = data[data[\"StrainID\"]==sample][\"State\"].tolist()[0]\n",
        "    \n",
        "    final_df = final_df.append(dicti, ignore_index = True)\n",
        "    i+=1\n",
        "\n",
        "final_df.tail()"
      ],
      "execution_count": null,
      "outputs": []
    },
    {
      "cell_type": "code",
      "metadata": {
        "id": "T8OEol4NlD5m"
      },
      "source": [
        "for_x = final_df.X.tolist()\n",
        "for_y = final_df.Y.tolist()\n",
        "for_states = final_df.State.tolist()\n",
        "for_hover = final_df.StrainID.tolist()\n",
        "\n",
        "fig = px.scatter(x=for_x, y=for_y, color=for_states, title=\"t-SNE\", height=600, width=1000,\n",
        "                color_discrete_map={\n",
        "                \"Stateless\": \"grey\",\n",
        "                \"Tamil Nadu\": \"green\",\n",
        "                \"Telangana\": \"red\",\n",
        "                \"Maharashtra\": \"orange\",\n",
        "                \"Gujarat\": \"magenta\",\n",
        "                \"Delhi\": \"purple\",\n",
        "                \"West Bengal\": \"aqua\",\n",
        "                \"Haryana\": \"pink\",\n",
        "                \"Odisha\": \"blue\",\n",
        "                \"Madhya Pradesh\": \"brown\",\n",
        "                \"Karnataka\": \"black\"})\n",
        "\n",
        "fig.show(renderer = 'colab')"
      ],
      "execution_count": null,
      "outputs": []
    },
    {
      "cell_type": "markdown",
      "metadata": {
        "id": "nGdKWX88lJN1"
      },
      "source": [
        "1.The yellow dots of Maharastra are part of both clusters and are also scattered.\n",
        "\n",
        "2.All the points are densley clustered in both the clusters and only few points of Delhi,Gujarat,Tamil nadu,Rajasthan are scattered."
      ]
    },
    {
      "cell_type": "markdown",
      "metadata": {
        "id": "HRb5YwiFleme"
      },
      "source": [
        "Conclusion\n",
        "\n",
        "You might be wondering how these 3 observations help in understanding the demographic spread of the virus in the country.\n",
        "\n",
        "This is not a Bioinformatics course, so you may choose to ignore the details mentioned below\n",
        "\n",
        "But the idea was to motivate you to understand the importance of visualization techniques even with no domain knowlege.\n",
        "\n",
        "On performing genetic analysis on the sequences to understand why exactly these observations could have been happening I found the following:\n",
        "\n",
        "Observation 1:\n",
        "\n",
        "Samples from Odisha are different than the rest of the country, hence they were scattered away from the clusters in the plots.\n",
        "\n",
        "Reason:\n",
        "\n",
        "Genomic sequences of isolates from Odisha were shorter in length with missing bases (deletions); 1 - 29 bases in 5' UTR (38 isolates), 23842 - 24400 bases in S gene, 26306-26524 bases in E gene, 27527 – 28033 bases in ORF7b and ORF8 (8 samples), 28462 - 28680 bases in the N gene (10 samples), 29000 – 29685 in ORF10 gene (15 samples), and 29686 - 29903 bases in 3' UTR (39 isolates). These deletions were unique to the state and werent observed in samples from the rest of the country.\n",
        "\n",
        "Observation 2:\n",
        "\n",
        "A secondary cluster away from the primary cluster with sequences from Telangana, Delhi, and Tamil Nadu.\n",
        "\n",
        "Reason:\n",
        "\n",
        "About one-third of the Indian isolates (219/685) are part of a subclade I/A3i defined by the co-occurring mutations C6312A, C13730T, C23929T, and C28311T. The subclade's predominance is observed in Telangana (69/97, 71%), Delhi (52/76, 68%), and Tamil Nadu (16/34). Analysis of this subclade is important both scientifically and epidemiologically as the mutations defining it are found in 32% of the Indian samples sequenced, while outside India its distribution is very low (3.5%). This clearly hints at early community transmission due to some super spreader event during March-April, as it is highly unlikely that around one-third of the samples sharing the same set of mutations could have arisen by multiple independent entries with international travel history, especially when its presence globally is negligibly small.\n",
        "\n",
        "Observation 3:\n",
        "\n",
        "A dense cluster of sequences from Gujarat.\n",
        "\n",
        "Reason:\n",
        "\n",
        "Isolates from Gujarat are a part of a subclade, I/GJ-20A defined by a shared set of mutations C18877T, G25563T (ORF3a: Q57H), and C26735T. This set of mutations are not well represented in the rest of the country. Mutations present in Gujarat have also been found in samples from Europe and that could have been the possible route of transmission into India. Also, Gujarat has the highest COVID-19 death rate (5.12%) in the country (Avg: 2.67%), and this death rate in Gujarat is comparable to that in Europe. This high fatality could be due to these characteristic mutations increasing the deleteriousness of the virus.\n",
        "\n",
        "So I hope you appreciate the valuable insights visualization techniques provide us with.\n",
        "\n",
        "Best of luck for the next Module......"
      ]
    }
  ]
}