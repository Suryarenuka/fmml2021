{
  "nbformat": 4,
  "nbformat_minor": 0,
  "metadata": {
    "colab": {
      "name": "Lab3_FMML2021620.ipynb",
      "provenance": [],
      "authorship_tag": "ABX9TyPj8oMfNeTqGsOcwPlhb0AI",
      "include_colab_link": true
    },
    "kernelspec": {
      "name": "python3",
      "display_name": "Python 3"
    },
    "language_info": {
      "name": "python"
    }
  },
  "cells": [
    {
      "cell_type": "markdown",
      "metadata": {
        "id": "view-in-github",
        "colab_type": "text"
      },
      "source": [
        "<a href=\"https://colab.research.google.com/github/Suryarenuka/fmml2021/blob/main/Lab3_FMML2021620.ipynb\" target=\"_parent\"><img src=\"https://colab.research.google.com/assets/colab-badge.svg\" alt=\"Open In Colab\"/></a>"
      ]
    },
    {
      "cell_type": "markdown",
      "metadata": {
        "id": "-wNPheHeAbQe"
      },
      "source": [
        "Try these questions for better understanding. You may not be able to solve all of them.\n",
        "\n",
        "1.What is the best value for angle constraint and shear constraint you got?How much did the accuracy improve as compared to not using augmentations?\n",
        "\n",
        "2.Can you increase the accuracy by increasing the number of augmentations from each sample?\n",
        "\n",
        "3.Try implementing a few augmentations of your own and experimenting with them. A good reference is here.\n",
        "\n",
        "4.Try combining various augmentations. What is the highest accuracy you can get? What is the smallest training dataset you can take and still get accuracy above 50%?\n",
        "\n",
        "Whenever you do any experiment, a good practice is to vary the hyperparameters gradually and create a graph of your results, like we did for gridsearch."
      ]
    },
    {
      "cell_type": "markdown",
      "metadata": {
        "id": "fcGSQownAhO7"
      },
      "source": [
        "1.What is the best value for angle constraint and shear constraint you got?How much did the accuracy improve as compared to not using augmentations?"
      ]
    },
    {
      "cell_type": "code",
      "metadata": {
        "id": "Mm2zjhEeArBY"
      },
      "source": [
        "import numpy as np\n",
        "import matplotlib.pyplot as plt\n",
        "from keras.datasets import mnist\n",
        "# set randomseed\n",
        "rng = np.random.default_rng(seed=42)\n",
        "from sklearn.utils.extmath import cartesian\n",
        "from skimage.transform import rotate, AffineTransform, warp\n",
        "import math\n",
        "from skimage.util import random_noise\n",
        "from skimage.filters import gaussian"
      ],
      "execution_count": 1,
      "outputs": []
    },
    {
      "cell_type": "code",
      "metadata": {
        "id": "8bd7R8r2A3m7",
        "colab": {
          "base_uri": "https://localhost:8080/"
        },
        "outputId": "8db0a6e9-b4f7-4ac9-8c8f-165c50663720"
      },
      "source": [
        "#loading the dataset\n",
        "(train_X, train_y), (test_X, test_y) = mnist.load_data()\n",
        "train_X = train_X/255\n",
        "test_X = test_X/255\n",
        "\n",
        "train_X = train_X[::1200,:,:].copy() # subsample. Otherwise it will take too long!\n",
        "train_y = train_y[::1200].copy() # do the same to the labels\n",
        "\n",
        "# nearest neighbour function\n",
        "def NN1(traindata, trainlabel, query):\n",
        "  diff  = traindata - query  # find the difference between features. Numpy automatically takes care of the size here \n",
        "  sq = diff*diff # square the differences\n",
        "  dist = sq.sum(1) # add up the squares\n",
        "  label = trainlabel[np.argmin(dist)] # our predicted label is the label of the training data which has the least distance from the query\n",
        "  return label\n",
        "\n",
        "def NN(traindata, trainlabel, testdata):\n",
        "  # we will run nearest neighbour for each sample in the test data \n",
        "  # and collect the predicted classes in an array using list comprehension\n",
        "  traindata = traindata.reshape(-1, 28*28)\n",
        "  testdata = testdata.reshape(-1,28*28)\n",
        "  predlabel = np.array([NN1(traindata, trainlabel, i) for i in testdata])\n",
        "  return predlabel\n",
        "\n",
        "def Accuracy(gtlabel, predlabel):\n",
        "  assert len(gtlabel)==len(predlabel), \"Length of the groundtruth labels and predicted labels should be the same\"\n",
        "  correct = (gtlabel==predlabel).sum() # count the number of times the groundtruth label is equal to the predicted label.\n",
        "  return correct/len(gtlabel)"
      ],
      "execution_count": 2,
      "outputs": [
        {
          "output_type": "stream",
          "name": "stdout",
          "text": [
            "Downloading data from https://storage.googleapis.com/tensorflow/tf-keras-datasets/mnist.npz\n",
            "11493376/11490434 [==============================] - 0s 0us/step\n",
            "11501568/11490434 [==============================] - 0s 0us/step\n"
          ]
        }
      ]
    },
    {
      "cell_type": "code",
      "metadata": {
        "id": "-1rskuiRA8Mf",
        "colab": {
          "base_uri": "https://localhost:8080/"
        },
        "outputId": "069e4e73-86e1-4f0b-df46-06a7372ddcdd"
      },
      "source": [
        "testpred = NN(train_X, train_y, test_X)\n",
        "print('Baseline accuracy without augmentation is ', Accuracy(test_y, testpred))"
      ],
      "execution_count": 3,
      "outputs": [
        {
          "output_type": "stream",
          "name": "stdout",
          "text": [
            "Baseline accuracy without augmentation is  0.6472\n"
          ]
        }
      ]
    },
    {
      "cell_type": "markdown",
      "metadata": {
        "id": "P8tG2jxNBCAi"
      },
      "source": [
        "After rotating, the the class of the image is still the same. Let us make a function to rotate multiple images by random angles. We want a slightly different image every time we run this function. So, we generate a random number between 0 and 1 and change it so that it lies between -constraint/2 and +constraint/2"
      ]
    },
    {
      "cell_type": "code",
      "metadata": {
        "id": "vYCVfeNuBIZ0"
      },
      "source": [
        "def augRotate(sample, angleconstraint):\n",
        "  if angleconstraint==0:\n",
        "    return sample\n",
        "  if len(sample.shape)==2:\n",
        "    sample = np.expand_dims(sample, 0)  # make sure the sample is 3 dimensional\n",
        "  angle = rng.random(len(sample)) # generate random numbers for angles\n",
        "  angle = (angle-0.5)*angleconstraint # make the random angle constrained\n",
        "  nsample = sample.copy() # preallocate the augmented array to make it faster\n",
        "  for ii in range(len(sample)):\n",
        "    nsample[ii] = rotate(sample[ii], angle[ii])\n",
        "  return np.squeeze(nsample) # take care if the input had only one sample."
      ],
      "execution_count": 4,
      "outputs": []
    },
    {
      "cell_type": "markdown",
      "metadata": {
        "id": "K8b7WwbQBUxy"
      },
      "source": [
        "Let us augment the whole dataset and see if this improves the test accuracy"
      ]
    },
    {
      "cell_type": "code",
      "metadata": {
        "id": "GYRKbcC8BaDd",
        "colab": {
          "base_uri": "https://localhost:8080/"
        },
        "outputId": "ac3d5bc5-2794-4c4a-db37-1e66669fd27f"
      },
      "source": [
        "# hyperparameters\n",
        "angleconstraint = 60\n",
        "naugmentations = 5\n",
        "\n",
        "# augment\n",
        "augdata = train_X # we include the original images also in the augmented dataset\n",
        "auglabel = train_y\n",
        "for ii in range(naugmentations):\n",
        "  augdata = np.concatenate((augdata, augRotate(train_X, angleconstraint))) # concatenate the augmented data to the set\n",
        "  auglabel = np.concatenate((auglabel, train_y))  # the labels don't change when we augment\n",
        "\n",
        "# check the test accuracy\n",
        "testpred = NN(augdata, auglabel, test_X)\n",
        "print('Accuracy after rotation augmentation is ', Accuracy(test_y, testpred))"
      ],
      "execution_count": 5,
      "outputs": [
        {
          "output_type": "stream",
          "name": "stdout",
          "text": [
            "Accuracy after rotation augmentation is  0.6742\n"
          ]
        }
      ]
    },
    {
      "cell_type": "markdown",
      "metadata": {
        "id": "sLeLV2vcBgZq"
      },
      "source": [
        "The angle constraint is a hyperparameter which we have to tune using a validation set. (Here we are not doing that for time constraints). Let us try a grid search to find the best angle constraint."
      ]
    },
    {
      "cell_type": "code",
      "metadata": {
        "id": "8CBdOovaBj2Z",
        "colab": {
          "base_uri": "https://localhost:8080/"
        },
        "outputId": "8ebeeef5-405e-4e3c-c685-9928c4d2c2d4"
      },
      "source": [
        "angleconstraints = [0,10,20,30,40,50,60,70,80,90] # the values we want to test\n",
        "accuracies = np.zeros(len(angleconstraints), dtype=np.float) # we will save the values here\n",
        "\n",
        "for ii in range(len(angleconstraints)):\n",
        "  # create the augmented dataset\n",
        "  augdata = train_X # we include the original images also in the augmented dataset\n",
        "  auglabel = train_y\n",
        "  for jj in range(naugmentations):\n",
        "    augdata = np.concatenate((augdata, augRotate(train_X, angleconstraints[ii]))) # concatenate the augmented data to the set\n",
        "    auglabel = np.concatenate((auglabel, train_y))  # the labels don't change when we augment\n",
        "\n",
        "  # check the test accuracy\n",
        "  testpred = NN(augdata, auglabel, test_X)\n",
        "  accuracies[ii] = Accuracy(test_y, testpred)\n",
        "  print('Accuracy after rotation augmentation constrained by ',angleconstraints[ii], ' is ', accuracies[ii], flush=True)"
      ],
      "execution_count": 6,
      "outputs": [
        {
          "output_type": "stream",
          "name": "stdout",
          "text": [
            "Accuracy after rotation augmentation constrained by  0  is  0.6472\n",
            "Accuracy after rotation augmentation constrained by  10  is  0.672\n",
            "Accuracy after rotation augmentation constrained by  20  is  0.6708\n",
            "Accuracy after rotation augmentation constrained by  30  is  0.6852\n",
            "Accuracy after rotation augmentation constrained by  40  is  0.6808\n",
            "Accuracy after rotation augmentation constrained by  50  is  0.6779\n",
            "Accuracy after rotation augmentation constrained by  60  is  0.6728\n",
            "Accuracy after rotation augmentation constrained by  70  is  0.6676\n",
            "Accuracy after rotation augmentation constrained by  80  is  0.6504\n",
            "Accuracy after rotation augmentation constrained by  90  is  0.6467\n"
          ]
        }
      ]
    },
    {
      "cell_type": "markdown",
      "metadata": {
        "id": "ufdaKz62BrfH"
      },
      "source": [
        "Let us see the best value for angle constraint: (Ideally this should be done on validation set, not test set)"
      ]
    },
    {
      "cell_type": "code",
      "metadata": {
        "id": "gouxTM6-BuUI",
        "colab": {
          "base_uri": "https://localhost:8080/",
          "height": 309
        },
        "outputId": "e76c8734-01c6-496b-8526-d37251346af0"
      },
      "source": [
        "fig = plt.figure()\n",
        "ax = fig.add_axes([0.1, 0.1, 0.8, 0.8]) # main axes\n",
        "# plot the variation of accuracy\n",
        "ax.plot(angleconstraints, accuracies)\n",
        "ax.set_xlabel('angle')\n",
        "ax.set_ylabel('accuracy')\n",
        "# plot the maximum accuracy\n",
        "maxind = np.argmax(accuracies)\n",
        "plt.scatter(angleconstraints[maxind], accuracies[maxind], c='red')"
      ],
      "execution_count": 7,
      "outputs": [
        {
          "output_type": "execute_result",
          "data": {
            "text/plain": [
              "<matplotlib.collections.PathCollection at 0x7fce99b39f10>"
            ]
          },
          "metadata": {},
          "execution_count": 7
        },
        {
          "output_type": "display_data",
          "data": {
            "image/png": "[encoded data removed]",
            "text/plain": [
              "<Figure size 432x288 with 1 Axes>"
            ]
          },
          "metadata": {
            "needs_background": "light"
          }
        }
      ]
    },
    {
      "cell_type": "markdown",
      "metadata": {
        "id": "0fvwmFEQCEhV"
      },
      "source": [
        "Augmentation 2\n",
        "Let us try one more augmentation: shear. Here is what this looks like:"
      ]
    },
    {
      "cell_type": "code",
      "metadata": {
        "id": "oQw9g_kHCHfm"
      },
      "source": [
        "def shear(sample, amount):\n",
        "  tform = AffineTransform(shear = amount) # create the shear transform\n",
        "  img = warp(sample, tform) # apply the shear\n",
        "  # this makes the digit off-center. Since all the images in the test set are centralized, we will do the same here\n",
        "  col = img.sum(0).nonzero()[0]\n",
        "  row = img.sum(1).nonzero()[0]\n",
        "  if len(col)>0 and len(row)>0:\n",
        "    xshift = int(sample.shape[0]/2 - (row[0]+row[-1])/2)\n",
        "    yshift = int(sample.shape[1]/2 - (col[0]+col[-1])/2)\n",
        "    img = np.roll(img, (xshift, yshift),(0,1))\n",
        "  return img"
      ],
      "execution_count": 8,
      "outputs": []
    },
    {
      "cell_type": "code",
      "metadata": {
        "id": "LHTUWFKACLz2"
      },
      "source": [
        "def augShear(sample, shearconstraint):\n",
        "  if shearconstraint==0:\n",
        "    return sample\n",
        "  if len(sample.shape)==2:\n",
        "    sample = np.expand_dims(sample, 0)  # make sure the sample is 3 dimensional\n",
        "  amt = rng.random(len(sample)) # generate random numbers for shear\n",
        "  amt = (amt-0.5)*shearconstraint # make the random shear constrained\n",
        "  nsample = sample.copy() # preallocate the augmented array to make it faster\n",
        "  for ii in range(len(sample)):\n",
        "    nsample[ii] = shear(sample[ii], amt[ii])\n",
        "  return np.squeeze(nsample) # take care if the input had only one sample."
      ],
      "execution_count": 9,
      "outputs": []
    },
    {
      "cell_type": "code",
      "metadata": {
        "id": "NzycITrLCOpT",
        "colab": {
          "base_uri": "https://localhost:8080/"
        },
        "outputId": "1c78580c-0653-4035-8547-81b54a9b9825"
      },
      "source": [
        "shearconstraints = [0, 0.2,0.4,0.6,0.8,1.0,1.2,1.4,1.6,1.8,2.0] # the values we want to test\n",
        "accuracies = np.zeros(len(shearconstraints), dtype=np.float) # we will save the values here\n",
        "\n",
        "for ii in range(len(shearconstraints)):\n",
        "  # create the augmented dataset\n",
        "  augdata = train_X # we include the original images also in the augmented dataset\n",
        "  auglabel = train_y\n",
        "  for jj in range(naugmentations):\n",
        "    augdata = np.concatenate((augdata, augShear(train_X, shearconstraints[ii]))) # concatenate the augmented data to the set\n",
        "    auglabel = np.concatenate((auglabel, train_y))  # the labels don't change when we augment\n",
        "\n",
        "  # check the test accuracy\n",
        "  testpred = NN(augdata, auglabel, test_X)\n",
        "  accuracies[ii] = Accuracy(test_y, testpred)\n",
        "  print('Accuracy after shear augmentation constrained by ',shearconstraints[ii], ' is ', accuracies[ii], flush=True)"
      ],
      "execution_count": 10,
      "outputs": [
        {
          "output_type": "stream",
          "name": "stdout",
          "text": [
            "Accuracy after shear augmentation constrained by  0  is  0.6472\n",
            "Accuracy after shear augmentation constrained by  0.2  is  0.6198\n",
            "Accuracy after shear augmentation constrained by  0.4  is  0.6289\n",
            "Accuracy after shear augmentation constrained by  0.6  is  0.6444\n",
            "Accuracy after shear augmentation constrained by  0.8  is  0.6556\n",
            "Accuracy after shear augmentation constrained by  1.0  is  0.6561\n",
            "Accuracy after shear augmentation constrained by  1.2  is  0.6275\n",
            "Accuracy after shear augmentation constrained by  1.4  is  0.6244\n",
            "Accuracy after shear augmentation constrained by  1.6  is  0.596\n",
            "Accuracy after shear augmentation constrained by  1.8  is  0.6067\n",
            "Accuracy after shear augmentation constrained by  2.0  is  0.6345\n"
          ]
        }
      ]
    },
    {
      "cell_type": "code",
      "metadata": {
        "id": "Pv6HRz8tCUOT",
        "colab": {
          "base_uri": "https://localhost:8080/",
          "height": 309
        },
        "outputId": "c7dcc799-eccb-400d-b54e-87d44da309aa"
      },
      "source": [
        "fig = plt.figure()\n",
        "ax = fig.add_axes([0.1, 0.1, 0.8, 0.8]) # main axes\n",
        "# plot the variation of accuracy\n",
        "ax.plot(shearconstraints, accuracies)\n",
        "ax.set_xlabel('angle')\n",
        "ax.set_ylabel('accuracy')\n",
        "# plot the maximum accuracy\n",
        "maxind = np.argmax(accuracies)\n",
        "plt.scatter(shearconstraints[maxind], accuracies[maxind], c='red')"
      ],
      "execution_count": 11,
      "outputs": [
        {
          "output_type": "execute_result",
          "data": {
            "text/plain": [
              "<matplotlib.collections.PathCollection at 0x7fce99b39dd0>"
            ]
          },
          "metadata": {},
          "execution_count": 11
        },
        {
          "output_type": "display_data",
          "data": {
            "image/png": "[encoded data removed]",
            "text/plain": [
              "<Figure size 432x288 with 1 Axes>"
            ]
          },
          "metadata": {
            "needs_background": "light"
          }
        }
      ]
    },
    {
      "cell_type": "markdown",
      "metadata": {
        "id": "T_YCO1Y-CZvj"
      },
      "source": [
        "Best value for angle constraint =30 ----- accuracy=68.52%\n",
        "\n",
        "Best value for shear constraint=1.0 ---- accuracy=65.61%\n",
        "\n",
        "accuraccy before augmentations=64.72%\n",
        "\n",
        "accuracy after augmentations= 67.42%\n",
        "\n",
        "there is 2.7% improvement in accuracy."
      ]
    },
    {
      "cell_type": "markdown",
      "metadata": {
        "id": "CXRbiE2lCgBr"
      },
      "source": [
        "2.Can you increase the accuracy by increasing the number of augmentations from each sample?"
      ]
    },
    {
      "cell_type": "markdown",
      "metadata": {
        "id": "hNPHHa4VCnzb"
      },
      "source": [
        "Let us try by increasing the number of augmentations. trying with different naugmentations 5,20,30,40..."
      ]
    },
    {
      "cell_type": "code",
      "metadata": {
        "id": "yVrXXsIzCxR4",
        "colab": {
          "base_uri": "https://localhost:8080/"
        },
        "outputId": "7a4e15c0-a435-4f99-dcf9-989fb167eccf"
      },
      "source": [
        "# hyperparameters\n",
        "angleconstraint = 60\n",
        "naugmentations = 150\n",
        "\n",
        "# augment\n",
        "augdata = train_X # we include the original images also in the augmented dataset\n",
        "auglabel = train_y\n",
        "for ii in range(naugmentations):\n",
        "  augdata = np.concatenate((augdata, augRotate(train_X, angleconstraint))) # concatenate the augmented data to the set\n",
        "  auglabel = np.concatenate((auglabel, train_y))  # the labels don't change when we augment\n",
        "\n",
        "# check the test accuracy\n",
        "testpred = NN(augdata, auglabel, test_X)\n",
        "print('Accuracy after rotation augmentation is ', Accuracy(test_y, testpred))"
      ],
      "execution_count": 12,
      "outputs": [
        {
          "output_type": "stream",
          "name": "stdout",
          "text": [
            "Accuracy after rotation augmentation is  0.6778\n"
          ]
        }
      ]
    },
    {
      "cell_type": "code",
      "metadata": {
        "id": "DNX_UibYC1Rr",
        "colab": {
          "base_uri": "https://localhost:8080/",
          "height": 281
        },
        "outputId": "a31fc204-7302-46d2-e3b2-b4ca4fd24704"
      },
      "source": [
        "a=[5,20,30,40,60,100,120,150] # naugmentations\n",
        "b=[0.6742,0.6766,0.677, 0.6772,0.6791,0.6783,0.678,0.6776] #accuracy\n",
        "\n",
        "plt.plot(a,b,'o--', color='Green', alpha=0.7)\n",
        "plt.title(\"augmentations vs accuracy\")\n",
        "plt.xlabel=\"naugmentations\"\n",
        "plt.ylabel=\"accuracy\"\n",
        "plt.show()"
      ],
      "execution_count": 13,
      "outputs": [
        {
          "output_type": "display_data",
          "data": {
            "image/png": "[encoded data removed]",
            "text/plain": [
              "<Figure size 432x288 with 1 Axes>"
            ]
          },
          "metadata": {
            "needs_background": "light"
          }
        }
      ]
    },
    {
      "cell_type": "markdown",
      "metadata": {
        "id": "XJTog5twC9Ad"
      },
      "source": [
        "There is a fractional increase in accuracy as we increase the number of augmentations. But after a certain range there is a fall(downward face in the graph) in the accuracy if we keep on increasing the number of augmentations."
      ]
    },
    {
      "cell_type": "markdown",
      "metadata": {
        "id": "KrkSHo2yDBoh"
      },
      "source": [
        "3.Try implementing a few augmentations of your own and experimenting with them."
      ]
    },
    {
      "cell_type": "markdown",
      "metadata": {
        "id": "ZiaGvPrkDGF4"
      },
      "source": [
        "Augmentation 1\n",
        "\n",
        "Here I am adding noise to the dataset."
      ]
    },
    {
      "cell_type": "code",
      "metadata": {
        "id": "HSg-A7VNDI95"
      },
      "source": [
        "def add_noise(sample, sigma=0.155):\n",
        "\n",
        "  #  return sample\n",
        "  if len(sample.shape)==2:\n",
        "    sample = np.expand_dims(sample, 0)  # make sure the sample is 3 dimensional\n",
        "\n",
        "  nsample = sample.copy() # preallocate the augmented array to make it faster\n",
        "  for ii in range(len(sample)):\n",
        "     nsample[ii] = random_noise(sample[ii], var=sigma**2)\n",
        " \n",
        "  return np.squeeze(nsample) # take care if the input had only one sample.\n",
        "\n",
        "#plt.imshow(noisyRandom)\n",
        "#plt.title('Random Noise')\n",
        " # return np.squeeze(nsample) # take care if the input had only one sample."
      ],
      "execution_count": 14,
      "outputs": []
    },
    {
      "cell_type": "code",
      "metadata": {
        "id": "rGCS52cQDM5I",
        "colab": {
          "base_uri": "https://localhost:8080/",
          "height": 414
        },
        "outputId": "d64b84b5-d70d-4333-b571-42a02e18f32b"
      },
      "source": [
        "sample = train_X[10]\n",
        "#angleconstraint = 70\n",
        "# show the original image\n",
        "plt.imshow(sample, cmap='gray')\n",
        "plt.show()\n",
        "plt.subplot(1,3,1)\n",
        "plt.imshow(add_noise(sample, sigma=0.155), cmap='gray') # show an augmented image\n",
        "plt.subplot(1,3,2)\n",
        "plt.imshow(add_noise(sample, sigma=0.155), cmap='gray') # show another augmented image from the same sample\n",
        "plt.subplot(1,3,3)\n",
        "plt.imshow(add_noise(sample, sigma=0.155), cmap='gray') # one more image from the same sample"
      ],
      "execution_count": 15,
      "outputs": [
        {
          "output_type": "display_data",
          "data": {
            "image/png": "[encoded data removed]",
            "text/plain": [
              "<Figure size 432x288 with 1 Axes>"
            ]
          },
          "metadata": {
            "needs_background": "light"
          }
        },
        {
          "output_type": "execute_result",
          "data": {
            "text/plain": [
              "<matplotlib.image.AxesImage at 0x7fce994810d0>"
            ]
          },
          "metadata": {},
          "execution_count": 15
        },
        {
          "output_type": "display_data",
          "data": {
            "image/png": "[encoded data removed]",
            "text/plain": [
              "<Figure size 432x288 with 3 Axes>"
            ]
          },
          "metadata": {
            "needs_background": "light"
          }
        }
      ]
    },
    {
      "cell_type": "code",
      "metadata": {
        "id": "-rcET14ODQ91",
        "colab": {
          "base_uri": "https://localhost:8080/"
        },
        "outputId": "a65adf67-7ee1-4bae-b976-d913641c8eeb"
      },
      "source": [
        "# Let's augment whole dataset by adding noise.\n",
        "naugmentations = 5\n",
        "\n",
        "# augment\n",
        "augdata = train_X # we include the original images also in the augmented dataset\n",
        "auglabel = train_y\n",
        "for ii in range(naugmentations):\n",
        "  augdata = np.concatenate((augdata, add_noise(train_X, sigma=0.155))) # concatenate the augmented data to the set\n",
        "  auglabel = np.concatenate((auglabel, train_y))  # the labels don't change when we augment\n",
        "\n",
        "# check the test accuracy\n",
        "testpred = NN(augdata, auglabel, test_X)\n",
        "print('Accuracy after adding noise augmentation is ', Accuracy(test_y, testpred))"
      ],
      "execution_count": 16,
      "outputs": [
        {
          "output_type": "stream",
          "name": "stdout",
          "text": [
            "Accuracy after adding noise augmentation is  0.6468\n"
          ]
        }
      ]
    },
    {
      "cell_type": "markdown",
      "metadata": {
        "id": "iqZFQFTjDVnd"
      },
      "source": [
        "Augmentation 2\n",
        "\n",
        "Let's blurr the image."
      ]
    },
    {
      "cell_type": "code",
      "metadata": {
        "id": "5QUjQEtYDZm-",
        "colab": {
          "base_uri": "https://localhost:8080/",
          "height": 298
        },
        "outputId": "4adf7b97-b23f-4a65-df98-65d2c1c737dd"
      },
      "source": [
        "#blur the image\n",
        "blurred = gaussian(train_X[1],sigma=1,multichannel=True)\n",
        "\n",
        "plt.imshow(blurred)\n",
        "plt.title('Blurred Image')\n"
      ],
      "execution_count": 17,
      "outputs": [
        {
          "output_type": "execute_result",
          "data": {
            "text/plain": [
              "Text(0.5, 1.0, 'Blurred Image')"
            ]
          },
          "metadata": {},
          "execution_count": 17
        },
        {
          "output_type": "display_data",
          "data": {
            "image/png": "[encoded data removed]",
            "text/plain": [
              "<Figure size 432x288 with 1 Axes>"
            ]
          },
          "metadata": {
            "needs_background": "light"
          }
        }
      ]
    },
    {
      "cell_type": "code",
      "metadata": {
        "id": "mqou4HsoDeZc"
      },
      "source": [
        "def blurr_image(sample, sigma=1,multichannel=True):\n",
        "\n",
        "  #  return sample\n",
        "  if len(sample.shape)==2:\n",
        "    sample = np.expand_dims(sample, 0)  # make sure the sample is 3 dimensional\n",
        "\n",
        "  nsample = sample.copy() # preallocate the augmented array to make it faster\n",
        "  for ii in range(len(sample)):\n",
        "     nsample[ii] = gaussian(sample[ii], sigma=1,multichannel=True)\n",
        " \n",
        "  return np.squeeze(nsample) # take care if the input had only one sample.\n",
        "\n"
      ],
      "execution_count": 18,
      "outputs": []
    },
    {
      "cell_type": "code",
      "metadata": {
        "id": "lfW0vHycDmGP",
        "colab": {
          "base_uri": "https://localhost:8080/",
          "height": 414
        },
        "outputId": "8fc5e755-2038-4276-fbee-044c6a9f619c"
      },
      "source": [
        "sample = train_X[4]\n",
        "\n",
        "# show the original image\n",
        "plt.imshow(sample, cmap='gray')\n",
        "plt.show()\n",
        "plt.subplot(1,3,1)\n",
        "plt.imshow(blurr_image(sample, sigma=1), cmap='gray') # show an augmented image\n",
        "plt.subplot(1,3,2)\n",
        "plt.imshow(blurr_image(sample, sigma=1), cmap='gray') # show another augmented image from the same sample\n",
        "plt.subplot(1,3,3)\n",
        "plt.imshow(blurr_image(sample, sigma=1), cmap='gray') # one more image from the same sample"
      ],
      "execution_count": 19,
      "outputs": [
        {
          "output_type": "display_data",
          "data": {
            "image/png": "[encoded data removed]",
            "text/plain": [
              "<Figure size 432x288 with 1 Axes>"
            ]
          },
          "metadata": {
            "needs_background": "light"
          }
        },
        {
          "output_type": "execute_result",
          "data": {
            "text/plain": [
              "<matplotlib.image.AxesImage at 0x7fce992cd0d0>"
            ]
          },
          "metadata": {},
          "execution_count": 19
        },
        {
          "output_type": "display_data",
          "data": {
            "image/png": "[encoded data removed]",
            "text/plain": [
              "<Figure size 432x288 with 3 Axes>"
            ]
          },
          "metadata": {
            "needs_background": "light"
          }
        }
      ]
    },
    {
      "cell_type": "code",
      "metadata": {
        "id": "_CNnPDDODqZF",
        "colab": {
          "base_uri": "https://localhost:8080/"
        },
        "outputId": "90bb43bb-d884-409b-ddcb-f69cb2bc0e46"
      },
      "source": [
        "# Let's augment whole dataset by adding noise.\n",
        "naugmentations = 5\n",
        "\n",
        "# augment\n",
        "augdata = train_X # we include the original images also in the augmented dataset\n",
        "auglabel = train_y\n",
        "for ii in range(naugmentations):\n",
        "  augdata = np.concatenate((augdata, blurr_image(train_X, sigma=1))) # concatenate the augmented data to the set\n",
        "  auglabel = np.concatenate((auglabel, train_y))  # the labels don't change when we augment\n",
        "\n",
        "# check the test accuracy\n",
        "testpred = NN(augdata, auglabel, test_X)\n",
        "print('Accuracy after blurring  augmentation is ', Accuracy(test_y, testpred))"
      ],
      "execution_count": 20,
      "outputs": [
        {
          "output_type": "stream",
          "name": "stdout",
          "text": [
            "Accuracy after blurring  augmentation is  0.6776\n"
          ]
        }
      ]
    },
    {
      "cell_type": "markdown",
      "metadata": {
        "id": "E3ZwgZcvDv1D"
      },
      "source": [
        "4.Try combining various augmentations. What is the highest accuracy you can get? What is the smallest training dataset you can take and still get accuracy above 50%?"
      ]
    },
    {
      "cell_type": "markdown",
      "metadata": {
        "id": "WJ2qRdltD0Kr"
      },
      "source": [
        "augmenting by adding noise and blurring the image one after one"
      ]
    },
    {
      "cell_type": "code",
      "metadata": {
        "id": "--eCThysD5ei",
        "colab": {
          "base_uri": "https://localhost:8080/"
        },
        "outputId": "fa8e29a2-a158-48d8-f763-3e9a2251fdfe"
      },
      "source": [
        "sigma = [0,1,2,3,4,5] # the values we want to test\n",
        "var = [0,0.04,0.16,0.36,0.64,1] # the values we want to test\n",
        "hyp =cartesian((sigma, var)) # cartesian product of both\n",
        "\n",
        "accuracies = np.zeros(len(hyp), dtype=np.float) # we will save the values here\n",
        "naugmentations=1\n",
        "for ii in range(len(hyp)):\n",
        "  # create the augmented dataset\n",
        "  augdata = train_X # we include the original images also in the augmented dataset\n",
        "  auglabel = train_y\n",
        "  for jj in range(naugmentations):\n",
        "    augdata = np.concatenate((augdata, add_noise(train_X, hyp[ii][1]))) # concatenate the augmented data to the set\n",
        "    auglabel = np.concatenate((auglabel, train_y))  # the labels don't change when we augment\n",
        "    augdata = np.concatenate((augdata, blurr_image(train_X,  hyp[ii][0]))) # concatenate the augmented data to the set\n",
        "    auglabel = np.concatenate((auglabel, train_y))  # the labels don't change when we augment\n",
        "\n",
        "  # check the test accuracy\n",
        "  testpred = NN(augdata, auglabel, test_X)\n",
        "  accuracies[ii] = Accuracy(test_y, testpred)\n",
        "  print('Accuracy after augmentation adding noise:',hyp[ii][0], 'blurring image',hyp[ii][1], ' is ', accuracies[ii], flush=True)\n"
      ],
      "execution_count": 21,
      "outputs": [
        {
          "output_type": "stream",
          "name": "stdout",
          "text": [
            "Accuracy after augmentation adding noise: 0 blurring image 0  is  0.6776\n",
            "Accuracy after augmentation adding noise: 0 blurring image 0  is  0.6776\n",
            "Accuracy after augmentation adding noise: 0 blurring image 0  is  0.6776\n",
            "Accuracy after augmentation adding noise: 0 blurring image 0  is  0.6776\n",
            "Accuracy after augmentation adding noise: 0 blurring image 0  is  0.6776\n",
            "Accuracy after augmentation adding noise: 0 blurring image 1  is  0.6776\n",
            "Accuracy after augmentation adding noise: 1 blurring image 0  is  0.6776\n",
            "Accuracy after augmentation adding noise: 1 blurring image 0  is  0.6776\n",
            "Accuracy after augmentation adding noise: 1 blurring image 0  is  0.6776\n",
            "Accuracy after augmentation adding noise: 1 blurring image 0  is  0.6776\n",
            "Accuracy after augmentation adding noise: 1 blurring image 0  is  0.6776\n",
            "Accuracy after augmentation adding noise: 1 blurring image 1  is  0.6776\n",
            "Accuracy after augmentation adding noise: 2 blurring image 0  is  0.6776\n",
            "Accuracy after augmentation adding noise: 2 blurring image 0  is  0.6776\n",
            "Accuracy after augmentation adding noise: 2 blurring image 0  is  0.6776\n",
            "Accuracy after augmentation adding noise: 2 blurring image 0  is  0.6776\n",
            "Accuracy after augmentation adding noise: 2 blurring image 0  is  0.6776\n",
            "Accuracy after augmentation adding noise: 2 blurring image 1  is  0.6776\n",
            "Accuracy after augmentation adding noise: 3 blurring image 0  is  0.6776\n",
            "Accuracy after augmentation adding noise: 3 blurring image 0  is  0.6776\n",
            "Accuracy after augmentation adding noise: 3 blurring image 0  is  0.6776\n",
            "Accuracy after augmentation adding noise: 3 blurring image 0  is  0.6776\n",
            "Accuracy after augmentation adding noise: 3 blurring image 0  is  0.6776\n",
            "Accuracy after augmentation adding noise: 3 blurring image 1  is  0.6776\n",
            "Accuracy after augmentation adding noise: 4 blurring image 0  is  0.6776\n",
            "Accuracy after augmentation adding noise: 4 blurring image 0  is  0.6776\n",
            "Accuracy after augmentation adding noise: 4 blurring image 0  is  0.6776\n",
            "Accuracy after augmentation adding noise: 4 blurring image 0  is  0.6776\n",
            "Accuracy after augmentation adding noise: 4 blurring image 0  is  0.6776\n",
            "Accuracy after augmentation adding noise: 4 blurring image 1  is  0.6776\n",
            "Accuracy after augmentation adding noise: 5 blurring image 0  is  0.6776\n",
            "Accuracy after augmentation adding noise: 5 blurring image 0  is  0.6776\n",
            "Accuracy after augmentation adding noise: 5 blurring image 0  is  0.6776\n",
            "Accuracy after augmentation adding noise: 5 blurring image 0  is  0.6776\n",
            "Accuracy after augmentation adding noise: 5 blurring image 0  is  0.6776\n",
            "Accuracy after augmentation adding noise: 5 blurring image 1  is  0.6776\n"
          ]
        }
      ]
    },
    {
      "cell_type": "markdown",
      "metadata": {
        "id": "xezQZGp0D_Wz"
      },
      "source": [
        "implementing rotate and shear augmentations one after one."
      ]
    },
    {
      "cell_type": "code",
      "metadata": {
        "colab": {
          "base_uri": "https://localhost:8080/",
          "height": 231
        },
        "id": "EQ2VT_ayW5jm",
        "outputId": "451fa5d1-4cc0-4e85-8347-97542296b70f"
      },
      "source": [
        "shearconstraints = [0, 0.2,0.4,0.6,0.8,1.0,1.2,1.4,1.6] # the values we want to test\n",
        "angleconstraints = [0,10,20,30,40,50,60] # the values we want to test\n",
        "hyp = cartesian((shearconstraints, angleconstraints)) # cartesian product of both\n",
        "\n",
        "accuracies = np.zeros(len(hyp), dtype=np.float) # we will save the values here\n",
        "naugmentation\n",
        "for ii in range(len(hyp)):\n",
        "  # create the augmented dataset\n",
        "  augdata = train_X # we include the original images also in the augmented dataset\n",
        "  auglabel = train_y\n",
        "  for jj in range(naugmentations):\n",
        "    augdata = np.concatenate((augdata, augRotate(train_X, hyp[ii][1]))) # concatenate the augmented data to the set\n",
        "    auglabel = np.concatenate((auglabel, train_y))  # the labels don't change when we augment\n",
        "    augdata = np.concatenate((augdata, augShear(train_X,  hyp[ii][0]))) # concatenate the augmented data to the set\n",
        "    auglabel = np.concatenate((auglabel, train_y))  # the labels don't change when we augment\n",
        "\n",
        "  # check the test accuracy\n",
        "  testpred = NN(augdata, auglabel, test_X)\n",
        "  accuracies[ii] = Accuracy(test_y, testpred)\n",
        "  print('Accuracy after augmentation shear:',hyp[ii][0], 'angle:',hyp[ii][1], ' is ', accuracies[ii], flush=True)"
      ],
      "execution_count": 23,
      "outputs": [
        {
          "output_type": "error",
          "ename": "NameError",
          "evalue": "ignored",
          "traceback": [
            "\u001b[0;31m---------------------------------------------------------------------------\u001b[0m",
            "\u001b[0;31mNameError\u001b[0m                                 Traceback (most recent call last)",
            "\u001b[0;32m<ipython-input-23-f17b80f72e41>\u001b[0m in \u001b[0;36m<module>\u001b[0;34m()\u001b[0m\n\u001b[1;32m      4\u001b[0m \u001b[0;34m\u001b[0m\u001b[0m\n\u001b[1;32m      5\u001b[0m \u001b[0maccuracies\u001b[0m \u001b[0;34m=\u001b[0m \u001b[0mnp\u001b[0m\u001b[0;34m.\u001b[0m\u001b[0mzeros\u001b[0m\u001b[0;34m(\u001b[0m\u001b[0mlen\u001b[0m\u001b[0;34m(\u001b[0m\u001b[0mhyp\u001b[0m\u001b[0;34m)\u001b[0m\u001b[0;34m,\u001b[0m \u001b[0mdtype\u001b[0m\u001b[0;34m=\u001b[0m\u001b[0mnp\u001b[0m\u001b[0;34m.\u001b[0m\u001b[0mfloat\u001b[0m\u001b[0;34m)\u001b[0m \u001b[0;31m# we will save the values here\u001b[0m\u001b[0;34m\u001b[0m\u001b[0;34m\u001b[0m\u001b[0m\n\u001b[0;32m----> 6\u001b[0;31m \u001b[0mnaugmentat\u001b[0m\u001b[0;34m\u001b[0m\u001b[0;34m\u001b[0m\u001b[0m\n\u001b[0m\u001b[1;32m      7\u001b[0m \u001b[0;32mfor\u001b[0m \u001b[0mii\u001b[0m \u001b[0;32min\u001b[0m \u001b[0mrange\u001b[0m\u001b[0;34m(\u001b[0m\u001b[0mlen\u001b[0m\u001b[0;34m(\u001b[0m\u001b[0mhyp\u001b[0m\u001b[0;34m)\u001b[0m\u001b[0;34m)\u001b[0m\u001b[0;34m:\u001b[0m\u001b[0;34m\u001b[0m\u001b[0;34m\u001b[0m\u001b[0m\n\u001b[1;32m      8\u001b[0m   \u001b[0;31m# create the augmented dataset\u001b[0m\u001b[0;34m\u001b[0m\u001b[0;34m\u001b[0m\u001b[0;34m\u001b[0m\u001b[0m\n",
            "\u001b[0;31mNameError\u001b[0m: name 'naugmentat' is not defined"
          ]
        }
      ]
    },
    {
      "cell_type": "markdown",
      "metadata": {
        "id": "4WLyjGWnXBkP"
      },
      "source": [
        "Let's try with smallets dataset Here I am training with 10 samples."
      ]
    },
    {
      "cell_type": "code",
      "metadata": {
        "colab": {
          "base_uri": "https://localhost:8080/"
        },
        "id": "OKSHOx-kXF2y",
        "outputId": "c44397b7-3dd9-4ad7-fb72-27dfc4494011"
      },
      "source": [
        "shearconstraints = [0, 0.2,0.4,0.6,0.8,1.0,1.2,1.4,1.6] # the values we want to test\n",
        "angleconstraints = [0,10,20,30,40,50,60] # the values we want to test\n",
        "hyp = cartesian((shearconstraints, angleconstraints)) # cartesian product of both\n",
        "\n",
        "accuracies = np.zeros(len(hyp), dtype=np.float) # we will save the values here\n",
        "naugmentations\n",
        "for ii in range(len(hyp)):\n",
        "  # create the augmented dataset\n",
        "  augdata = train_X # we include the original images also in the augmented dataset\n",
        "  auglabel = train_y\n",
        "  for jj in range(naugmentations):\n",
        "    augdata = np.concatenate((augdata, augRotate(train_X, hyp[ii][1]))) # concatenate the augmented data to the set\n",
        "    auglabel = np.concatenate((auglabel, train_y))  # the labels don't change when we augment\n",
        "    augdata = np.concatenate((augdata, augShear(train_X,  hyp[ii][0]))) # concatenate the augmented data to the set\n",
        "    auglabel = np.concatenate((auglabel, train_y))  # the labels don't change when we augment\n",
        "\n",
        "  # check the test accuracy\n",
        "  testpred = NN(augdata, auglabel, test_X)\n",
        "  accuracies[ii] = Accuracy(test_y, testpred)\n",
        "  print('Accuracy after augmentation shear:',hyp[ii][0], 'angle:',hyp[ii][1], ' is ', accuracies[ii], flush=True)"
      ],
      "execution_count": 32,
      "outputs": [
        {
          "output_type": "stream",
          "name": "stdout",
          "text": [
            "Accuracy after augmentation shear: 0.0 angle: 0.0  is  0.6472\n",
            "Accuracy after augmentation shear: 0.0 angle: 10.0  is  0.664\n",
            "Accuracy after augmentation shear: 0.0 angle: 20.0  is  0.6831\n",
            "Accuracy after augmentation shear: 0.0 angle: 30.0  is  0.6805\n",
            "Accuracy after augmentation shear: 0.0 angle: 40.0  is  0.6669\n",
            "Accuracy after augmentation shear: 0.0 angle: 50.0  is  0.6817\n",
            "Accuracy after augmentation shear: 0.0 angle: 60.0  is  0.6637\n",
            "Accuracy after augmentation shear: 0.2 angle: 0.0  is  0.6197\n",
            "Accuracy after augmentation shear: 0.2 angle: 10.0  is  0.6601\n",
            "Accuracy after augmentation shear: 0.2 angle: 20.0  is  0.667\n",
            "Accuracy after augmentation shear: 0.2 angle: 30.0  is  0.6806\n",
            "Accuracy after augmentation shear: 0.2 angle: 40.0  is  0.6579\n",
            "Accuracy after augmentation shear: 0.2 angle: 50.0  is  0.6619\n",
            "Accuracy after augmentation shear: 0.2 angle: 60.0  is  0.6587\n",
            "Accuracy after augmentation shear: 0.4 angle: 0.0  is  0.6374\n",
            "Accuracy after augmentation shear: 0.4 angle: 10.0  is  0.6683\n",
            "Accuracy after augmentation shear: 0.4 angle: 20.0  is  0.6794\n",
            "Accuracy after augmentation shear: 0.4 angle: 30.0  is  0.6873\n",
            "Accuracy after augmentation shear: 0.4 angle: 40.0  is  0.6712\n",
            "Accuracy after augmentation shear: 0.4 angle: 50.0  is  0.6744\n",
            "Accuracy after augmentation shear: 0.4 angle: 60.0  is  0.6759\n",
            "Accuracy after augmentation shear: 0.6 angle: 0.0  is  0.6394\n",
            "Accuracy after augmentation shear: 0.6 angle: 10.0  is  0.6811\n",
            "Accuracy after augmentation shear: 0.6 angle: 20.0  is  0.682\n",
            "Accuracy after augmentation shear: 0.6 angle: 30.0  is  0.6813\n",
            "Accuracy after augmentation shear: 0.6 angle: 40.0  is  0.689\n",
            "Accuracy after augmentation shear: 0.6 angle: 50.0  is  0.681\n",
            "Accuracy after augmentation shear: 0.6 angle: 60.0  is  0.6729\n",
            "Accuracy after augmentation shear: 0.8 angle: 0.0  is  0.6523\n",
            "Accuracy after augmentation shear: 0.8 angle: 10.0  is  0.6776\n",
            "Accuracy after augmentation shear: 0.8 angle: 20.0  is  0.6913\n",
            "Accuracy after augmentation shear: 0.8 angle: 30.0  is  0.6921\n",
            "Accuracy after augmentation shear: 0.8 angle: 40.0  is  0.6793\n",
            "Accuracy after augmentation shear: 0.8 angle: 50.0  is  0.6807\n",
            "Accuracy after augmentation shear: 0.8 angle: 60.0  is  0.6867\n",
            "Accuracy after augmentation shear: 1.0 angle: 0.0  is  0.6558\n",
            "Accuracy after augmentation shear: 1.0 angle: 10.0  is  0.6827\n",
            "Accuracy after augmentation shear: 1.0 angle: 20.0  is  0.6827\n",
            "Accuracy after augmentation shear: 1.0 angle: 30.0  is  0.686\n",
            "Accuracy after augmentation shear: 1.0 angle: 40.0  is  0.6731\n",
            "Accuracy after augmentation shear: 1.0 angle: 50.0  is  0.6823\n",
            "Accuracy after augmentation shear: 1.0 angle: 60.0  is  0.6892\n",
            "Accuracy after augmentation shear: 1.2 angle: 0.0  is  0.6508\n",
            "Accuracy after augmentation shear: 1.2 angle: 10.0  is  0.6768\n",
            "Accuracy after augmentation shear: 1.2 angle: 20.0  is  0.6851\n",
            "Accuracy after augmentation shear: 1.2 angle: 30.0  is  0.6912\n",
            "Accuracy after augmentation shear: 1.2 angle: 40.0  is  0.6886\n",
            "Accuracy after augmentation shear: 1.2 angle: 50.0  is  0.6825\n",
            "Accuracy after augmentation shear: 1.2 angle: 60.0  is  0.6826\n",
            "Accuracy after augmentation shear: 1.4 angle: 0.0  is  0.6144\n",
            "Accuracy after augmentation shear: 1.4 angle: 10.0  is  0.6744\n",
            "Accuracy after augmentation shear: 1.4 angle: 20.0  is  0.6706\n",
            "Accuracy after augmentation shear: 1.4 angle: 30.0  is  0.6934\n",
            "Accuracy after augmentation shear: 1.4 angle: 40.0  is  0.6699\n",
            "Accuracy after augmentation shear: 1.4 angle: 50.0  is  0.6734\n",
            "Accuracy after augmentation shear: 1.4 angle: 60.0  is  0.6832\n",
            "Accuracy after augmentation shear: 1.6 angle: 0.0  is  0.6174\n",
            "Accuracy after augmentation shear: 1.6 angle: 10.0  is  0.6612\n",
            "Accuracy after augmentation shear: 1.6 angle: 20.0  is  0.671\n",
            "Accuracy after augmentation shear: 1.6 angle: 30.0  is  0.6706\n",
            "Accuracy after augmentation shear: 1.6 angle: 40.0  is  0.6801\n",
            "Accuracy after augmentation shear: 1.6 angle: 50.0  is  0.6847\n",
            "Accuracy after augmentation shear: 1.6 angle: 60.0  is  0.657\n"
          ]
        }
      ]
    },
    {
      "cell_type": "markdown",
      "metadata": {
        "id": "adQc8acrXLCZ"
      },
      "source": [
        "Let's try with smallets dataset Here I am training with 10 samples."
      ]
    },
    {
      "cell_type": "code",
      "metadata": {
        "id": "LtEsQ098XNpM"
      },
      "source": [
        "dataset=None\n",
        "for i in range(10):\n",
        "  if dataset is None:\n",
        "    dataset=np.expand_dims(train_X[train_y==i][0],0)\n",
        "  else:\n",
        "    dataset=np.concatenate((dataset, np.expand_dims(train_X[train_y==i][0],0)))  \n",
        "  labels=np.arange(10)  "
      ],
      "execution_count": 25,
      "outputs": []
    },
    {
      "cell_type": "code",
      "metadata": {
        "colab": {
          "base_uri": "https://localhost:8080/"
        },
        "id": "LzRwRNdYXQ8F",
        "outputId": "4653141f-fcf2-4eb1-b402-a3edd53ddeaf"
      },
      "source": [
        "testpred = NN(dataset, labels, test_X)\n",
        "print('Baseline accuracy without augmentation is ', Accuracy(test_y, testpred))"
      ],
      "execution_count": 26,
      "outputs": [
        {
          "output_type": "stream",
          "name": "stdout",
          "text": [
            "Baseline accuracy without augmentation is  0.4549\n"
          ]
        }
      ]
    },
    {
      "cell_type": "code",
      "metadata": {
        "colab": {
          "base_uri": "https://localhost:8080/"
        },
        "id": "YIyNofnLXU1G",
        "outputId": "34bc67f7-333c-46f7-aa14-9ccfbfc85f86"
      },
      "source": [
        "shearconstraints = [0, 0.2,0.4,0.6,0.8,1.0,1.2,1.4,1.6] # the values we want to test\n",
        "angleconstraints = [0,10,20,30,40,50,60] # the values we want to test\n",
        "hyp = cartesian((shearconstraints, angleconstraints)) # cartesian product of both\n",
        "\n",
        "accuracies = np.zeros(len(hyp), dtype=np.float) # we will save the values here\n",
        "naugmentations=5\n",
        "for ii in range(len(hyp)):\n",
        "  # create the augmented dataset\n",
        "  augdata = dataset # we include the original images also in the augmented dataset\n",
        "  auglabel = labels\n",
        "  for jj in range(naugmentations):\n",
        "    augdata = np.concatenate((augdata, augRotate(dataset, hyp[ii][1]))) # concatenate the augmented data to the set\n",
        "    auglabel = np.concatenate((auglabel, labels))  # the labels don't change when we augment\n",
        "    augdata = np.concatenate((augdata, augShear(dataset,  hyp[ii][0]))) # concatenate the augmented data to the set\n",
        "    auglabel = np.concatenate((auglabel, labels))  # the labels don't change when we augment\n",
        "\n",
        "  # check the test accuracy\n",
        "  testpred = NN(augdata, auglabel, test_X)\n",
        "  accuracies[ii] = Accuracy(test_y, testpred)\n",
        "  print('Accuracy after augmentation shear:',hyp[ii][0], 'angle:',hyp[ii][1], ' is ', accuracies[ii], flush=True)"
      ],
      "execution_count": 27,
      "outputs": [
        {
          "output_type": "stream",
          "name": "stdout",
          "text": [
            "Accuracy after augmentation shear: 0.0 angle: 0.0  is  0.4549\n",
            "Accuracy after augmentation shear: 0.0 angle: 10.0  is  0.4873\n",
            "Accuracy after augmentation shear: 0.0 angle: 20.0  is  0.4962\n",
            "Accuracy after augmentation shear: 0.0 angle: 30.0  is  0.4901\n",
            "Accuracy after augmentation shear: 0.0 angle: 40.0  is  0.5001\n",
            "Accuracy after augmentation shear: 0.0 angle: 50.0  is  0.4956\n",
            "Accuracy after augmentation shear: 0.0 angle: 60.0  is  0.4941\n",
            "Accuracy after augmentation shear: 0.2 angle: 0.0  is  0.4279\n",
            "Accuracy after augmentation shear: 0.2 angle: 10.0  is  0.4654\n",
            "Accuracy after augmentation shear: 0.2 angle: 20.0  is  0.4735\n",
            "Accuracy after augmentation shear: 0.2 angle: 30.0  is  0.485\n",
            "Accuracy after augmentation shear: 0.2 angle: 40.0  is  0.4952\n",
            "Accuracy after augmentation shear: 0.2 angle: 50.0  is  0.4829\n",
            "Accuracy after augmentation shear: 0.2 angle: 60.0  is  0.4892\n",
            "Accuracy after augmentation shear: 0.4 angle: 0.0  is  0.4525\n",
            "Accuracy after augmentation shear: 0.4 angle: 10.0  is  0.4845\n",
            "Accuracy after augmentation shear: 0.4 angle: 20.0  is  0.4961\n",
            "Accuracy after augmentation shear: 0.4 angle: 30.0  is  0.4803\n",
            "Accuracy after augmentation shear: 0.4 angle: 40.0  is  0.5011\n",
            "Accuracy after augmentation shear: 0.4 angle: 50.0  is  0.4799\n",
            "Accuracy after augmentation shear: 0.4 angle: 60.0  is  0.4769\n",
            "Accuracy after augmentation shear: 0.6 angle: 0.0  is  0.4508\n",
            "Accuracy after augmentation shear: 0.6 angle: 10.0  is  0.4863\n",
            "Accuracy after augmentation shear: 0.6 angle: 20.0  is  0.4827\n",
            "Accuracy after augmentation shear: 0.6 angle: 30.0  is  0.5113\n",
            "Accuracy after augmentation shear: 0.6 angle: 40.0  is  0.5141\n",
            "Accuracy after augmentation shear: 0.6 angle: 50.0  is  0.4858\n",
            "Accuracy after augmentation shear: 0.6 angle: 60.0  is  0.4837\n",
            "Accuracy after augmentation shear: 0.8 angle: 0.0  is  0.4631\n",
            "Accuracy after augmentation shear: 0.8 angle: 10.0  is  0.4938\n",
            "Accuracy after augmentation shear: 0.8 angle: 20.0  is  0.501\n",
            "Accuracy after augmentation shear: 0.8 angle: 30.0  is  0.5227\n",
            "Accuracy after augmentation shear: 0.8 angle: 40.0  is  0.5203\n",
            "Accuracy after augmentation shear: 0.8 angle: 50.0  is  0.5123\n",
            "Accuracy after augmentation shear: 0.8 angle: 60.0  is  0.5016\n",
            "Accuracy after augmentation shear: 1.0 angle: 0.0  is  0.4816\n",
            "Accuracy after augmentation shear: 1.0 angle: 10.0  is  0.4973\n",
            "Accuracy after augmentation shear: 1.0 angle: 20.0  is  0.5047\n",
            "Accuracy after augmentation shear: 1.0 angle: 30.0  is  0.4999\n",
            "Accuracy after augmentation shear: 1.0 angle: 40.0  is  0.5059\n",
            "Accuracy after augmentation shear: 1.0 angle: 50.0  is  0.505\n",
            "Accuracy after augmentation shear: 1.0 angle: 60.0  is  0.5002\n",
            "Accuracy after augmentation shear: 1.2 angle: 0.0  is  0.465\n",
            "Accuracy after augmentation shear: 1.2 angle: 10.0  is  0.5085\n",
            "Accuracy after augmentation shear: 1.2 angle: 20.0  is  0.5097\n",
            "Accuracy after augmentation shear: 1.2 angle: 30.0  is  0.4976\n",
            "Accuracy after augmentation shear: 1.2 angle: 40.0  is  0.5063\n",
            "Accuracy after augmentation shear: 1.2 angle: 50.0  is  0.5079\n",
            "Accuracy after augmentation shear: 1.2 angle: 60.0  is  0.5042\n",
            "Accuracy after augmentation shear: 1.4 angle: 0.0  is  0.4705\n",
            "Accuracy after augmentation shear: 1.4 angle: 10.0  is  0.4919\n",
            "Accuracy after augmentation shear: 1.4 angle: 20.0  is  0.5103\n",
            "Accuracy after augmentation shear: 1.4 angle: 30.0  is  0.5082\n",
            "Accuracy after augmentation shear: 1.4 angle: 40.0  is  0.5067\n",
            "Accuracy after augmentation shear: 1.4 angle: 50.0  is  0.5237\n",
            "Accuracy after augmentation shear: 1.4 angle: 60.0  is  0.4934\n",
            "Accuracy after augmentation shear: 1.6 angle: 0.0  is  0.4663\n",
            "Accuracy after augmentation shear: 1.6 angle: 10.0  is  0.4819\n",
            "Accuracy after augmentation shear: 1.6 angle: 20.0  is  0.5147\n",
            "Accuracy after augmentation shear: 1.6 angle: 30.0  is  0.4883\n",
            "Accuracy after augmentation shear: 1.6 angle: 40.0  is  0.5032\n",
            "Accuracy after augmentation shear: 1.6 angle: 50.0  is  0.4949\n",
            "Accuracy after augmentation shear: 1.6 angle: 60.0  is  0.5028\n"
          ]
        }
      ]
    }
  ]
}